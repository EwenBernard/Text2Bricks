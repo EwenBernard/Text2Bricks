{
 "cells": [
  {
   "cell_type": "code",
   "execution_count": 1,
   "metadata": {},
   "outputs": [],
   "source": [
    "from text2brick.models import BrickRef\n",
    "from text2brick.managers import SingleBrickLegoWorldManager\n",
    "from text2brick.gym import LegoEnv\n",
    "from text2brick.utils.WorldDataUtils import format_ldraw, save_ldr\n",
    "from text2brick.dataset.dataset import Dataset\n",
    "from text2brick.utils.ImageUtils import image_upscale, IoU"
   ]
  },
  {
   "cell_type": "code",
   "execution_count": 2,
   "metadata": {},
   "outputs": [],
   "source": [
    "mapping_array_l = [\n",
    "    [0, 0, 0, 0],\n",
    "    [1, 1, 1, 1],\n",
    "    [1, 1, 1, 1],\n",
    "    [1, 1, 0, 0]\n",
    "]\n",
    "\n",
    "mapping_array_o = [\n",
    "    [0, 1, 1, 1, 1, 0],\n",
    "    [1, 1, 0, 0, 1, 1],\n",
    "    [1, 1, 0, 0, 1, 1],\n",
    "    [1, 1, 0, 0, 1, 1],\n",
    "    [0, 1, 1, 1, 1, 0]\n",
    "]\n",
    "\n",
    "# brick_2x2 = BrickRef(file_id=\"3003.dat\", name=\"2x2\", color=15, h=24, w=20, d=20)\n",
    "# lego_world = SingleBrickLegoWorldManager(mapping_array_l, brick_2x2, remove_illegal_brick_init=False)\n",
    "\n",
    "# print(lego_world.data.str_full_infos())\n",
    "\n",
    "# illegal_bricks = lego_world.check_illegal_bricks()\n",
    "\n",
    "# if not illegal_bricks:\n",
    "#     print(\"\\nNo illegal bricks found\")\n",
    "\n",
    "# for brick in illegal_bricks:\n",
    "#     brick_info, error_msg = brick\n",
    "#     print(\"\\nIllegal Brick\", brick_info)\n",
    "#     print(\"Error\", error_msg)\n"
   ]
  },
  {
   "cell_type": "code",
   "execution_count": 3,
   "metadata": {},
   "outputs": [],
   "source": [
    "#save_ldr(lego_world.data, \"test_file_2x2_o\")"
   ]
  },
  {
   "cell_type": "code",
   "execution_count": 4,
   "metadata": {},
   "outputs": [],
   "source": [
    "dataset = Dataset()\n"
   ]
  },
  {
   "cell_type": "code",
   "execution_count": null,
   "metadata": {},
   "outputs": [
    {
     "name": "stdout",
     "output_type": "stream",
     "text": [
      "27\n",
      "{'reward': 1.0108108108108107, 'steps': 1, 'brick': Brick(brick_id=1, x=14, y=0, z=0, brick_ref=BrickRef(file_id='3003.dat', name='2x2', color=15, h=1, w=2, d=2), connected_to=[])}\n",
      "27\n",
      "26\n",
      "27\n",
      "26\n",
      "27\n",
      "27\n",
      "26\n",
      "27\n",
      "Lego World Bricks\n",
      "id: 1 x: 14 | y: 0 | z: 0 | ID: 3003.dat | Name: 2x2 | Color: 15 | h:1 | w:2 | d:2 | Connected to: []\n",
      "id: 2 x: 15 | y: 1 | z: 0 | ID: 3003.dat | Name: 2x2 | Color: 15 | h:1 | w:2 | d:2 | Connected to: [1]\n",
      "id: 3 x: 1 | y: 0 | z: 0 | ID: 3003.dat | Name: 2x2 | Color: 15 | h:1 | w:2 | d:2 | Connected to: []\n",
      "[[0 0 0 0 0 0 0 0 0 0 0 0 0 0 0 0 0 0 0 0 0 0 0 0 0 0 0 0]\n",
      " [0 0 0 0 0 0 0 0 0 0 0 0 0 0 0 0 0 0 0 0 0 0 0 0 0 0 0 0]\n",
      " [0 0 0 0 0 0 0 0 0 0 0 0 0 0 0 0 0 0 0 0 0 0 0 0 0 0 0 0]\n",
      " [0 0 0 0 0 0 0 0 0 0 0 0 0 0 0 0 0 0 0 0 0 0 0 0 0 0 0 0]\n",
      " [0 0 0 0 0 0 0 0 0 0 0 0 0 0 0 0 0 0 0 0 0 0 0 0 0 0 0 0]\n",
      " [0 0 0 0 0 0 0 0 0 0 0 0 0 0 0 0 0 0 0 0 0 0 0 0 0 0 0 0]\n",
      " [0 0 0 0 0 0 0 0 0 0 0 0 0 0 0 0 0 0 0 0 0 0 0 0 0 0 0 0]\n",
      " [0 0 0 0 0 0 0 0 0 0 0 0 0 0 0 0 0 0 0 0 0 0 0 0 0 0 0 0]\n",
      " [0 0 0 0 0 0 0 0 0 0 0 0 0 0 0 0 0 0 0 0 0 0 0 0 0 0 0 0]\n",
      " [0 0 0 0 0 0 0 0 0 0 0 0 0 0 0 0 0 0 0 0 0 0 0 0 0 0 0 0]\n",
      " [0 0 0 0 0 0 0 0 0 0 0 0 0 0 0 0 0 0 0 0 0 0 0 0 0 0 0 0]\n",
      " [0 0 0 0 0 0 0 0 0 0 0 0 0 0 0 0 0 0 0 0 0 0 0 0 0 0 0 0]\n",
      " [0 0 0 0 0 0 0 0 0 0 0 0 0 0 0 0 0 0 0 0 0 0 0 0 0 0 0 0]\n",
      " [0 0 0 0 0 0 0 0 0 0 0 0 0 0 0 0 0 0 0 0 0 0 0 0 0 0 0 0]\n",
      " [0 0 0 0 0 0 0 0 0 0 0 0 0 0 0 0 0 0 0 0 0 0 0 0 0 0 0 0]\n",
      " [0 0 0 0 0 0 0 0 0 0 0 0 0 0 0 0 0 0 0 0 0 0 0 0 0 0 0 0]\n",
      " [0 0 0 0 0 0 0 0 0 0 0 0 0 0 0 0 0 0 0 0 0 0 0 0 0 0 0 0]\n",
      " [0 0 0 0 0 0 0 0 0 0 0 0 0 0 0 0 0 0 0 0 0 0 0 0 0 0 0 0]\n",
      " [0 0 0 0 0 0 0 0 0 0 0 0 0 0 0 0 0 0 0 0 0 0 0 0 0 0 0 0]\n",
      " [0 0 0 0 0 0 0 0 0 0 0 0 0 0 0 0 0 0 0 0 0 0 0 0 0 0 0 0]\n",
      " [0 0 0 0 0 0 0 0 0 0 0 0 0 0 0 0 0 0 0 0 0 0 0 0 0 0 0 0]\n",
      " [0 0 0 0 0 0 0 0 0 0 0 0 0 0 0 0 0 0 0 0 0 0 0 0 0 0 0 0]\n",
      " [0 0 0 0 0 0 0 0 0 0 0 0 0 0 0 0 0 0 0 0 0 0 0 0 0 0 0 0]\n",
      " [0 0 0 0 0 0 0 0 0 0 0 0 0 0 0 0 0 0 0 0 0 0 0 0 0 0 0 0]\n",
      " [0 0 0 0 0 0 0 0 0 0 0 0 0 0 0 0 0 0 0 0 0 0 0 0 0 0 0 0]\n",
      " [0 0 0 0 0 0 0 0 0 0 0 0 0 0 0 0 0 0 0 0 0 0 0 0 0 0 0 0]\n",
      " [0 0 0 0 0 0 0 0 0 0 0 0 0 0 0 1 1 0 0 0 0 0 0 0 0 0 0 0]\n",
      " [0 1 1 0 0 0 0 0 0 0 0 0 0 0 1 1 0 0 0 0 0 0 0 0 0 0 0 0]]\n"
     ]
    },
    {
     "data": {
      "image/jpeg": "[encoded data removed]",
      "image/png": "[encoded data removed]",
      "text/plain": [
       "<PIL.Image.Image image mode=L size=56x56>"
      ]
     },
     "execution_count": 5,
     "metadata": {},
     "output_type": "execute_result"
    }
   ],
   "source": [
    "array, image = dataset.sample()\n",
    "\n",
    "env = LegoEnv(array.shape[0])\n",
    "\n",
    "observation, reward, done, info = env.step((27, 14), array)\n",
    "observation, reward, done, info = env.step((26, 15), array)\n",
    "observation, reward, done, info = env.step((27, 1), array)\n",
    "print(info)\n",
    "observation, reward, done, info = env.step((27, 2), array)\n",
    "print(env.lego_world.data.str_full_infos())\n",
    "print(observation)\n",
    "\n",
    "image = image_upscale(image, 2)\n",
    "image"
   ]
  }
 ],
 "metadata": {
  "kernelspec": {
   "display_name": "Python 3",
   "language": "python",
   "name": "python3"
  },
  "language_info": {
   "codemirror_mode": {
    "name": "ipython",
    "version": 3
   },
   "file_extension": ".py",
   "mimetype": "text/x-python",
   "name": "python",
   "nbconvert_exporter": "python",
   "pygments_lexer": "ipython3",
   "version": "3.10.11"
  }
 },
 "nbformat": 4,
 "nbformat_minor": 2
}
