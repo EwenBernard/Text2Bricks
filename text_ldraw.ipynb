{
 "cells": [
  {
   "cell_type": "code",
   "execution_count": 1,
   "metadata": {},
   "outputs": [],
   "source": [
    "from text2brick.model import LegoWorld, Brick, BrickRef"
   ]
  },
  {
   "cell_type": "code",
   "execution_count": 4,
   "metadata": {},
   "outputs": [
    {
     "name": "stdout",
     "output_type": "stream",
     "text": [
      "id: 1 x: 20 | y: -72 | z: 0 | ID: 3003.dat | Name: 2x2 | Color: 15 | h:24 | w:20 | d:20 | Connected to: []\n",
      "id: 2 x: 0 | y: -48 | z: 0 | ID: 3003.dat | Name: 2x2 | Color: 15 | h:24 | w:20 | d:20 | Connected to: [4]\n",
      "id: 3 x: 40 | y: -48 | z: 0 | ID: 3003.dat | Name: 2x2 | Color: 15 | h:24 | w:20 | d:20 | Connected to: []\n",
      "id: 4 x: 0 | y: -24 | z: 0 | ID: 3003.dat | Name: 2x2 | Color: 15 | h:24 | w:20 | d:20 | Connected to: [2, 5]\n",
      "id: 5 x: 0 | y: 0 | z: 0 | ID: 3003.dat | Name: 2x2 | Color: 15 | h:24 | w:20 | d:20 | Connected to: [4]\n",
      "id: 6 x: 40 | y: 0 | z: 0 | ID: 3003.dat | Name: 2x2 | Color: 15 | h:24 | w:20 | d:20 | Connected to: []\n",
      "[(Brick(brick_id=1, x=20, y=-72, z=0, brick_ref=BrickRef(file_id='3003.dat', name='2x2', color=15, h=24, w=20, d=20), connected_to=[]), 'Floating brick - no connections and below ground'), (Brick(brick_id=3, x=40, y=-48, z=0, brick_ref=BrickRef(file_id='3003.dat', name='2x2', color=15, h=24, w=20, d=20), connected_to=[]), 'Floating brick - no connections and below ground')]\n"
     ]
    }
   ],
   "source": [
    "mapping_array_l = [\n",
    "    [0, 1, 1, 0],\n",
    "    [1, 1, 1, 1],\n",
    "    [1, 1, 0, 0],\n",
    "    [1, 1, 1, 1]\n",
    "]\n",
    "\n",
    "mapping_array_o = [\n",
    "    [0, 1, 1, 1, 1, 0],\n",
    "    [1, 1, 0, 0, 1, 1],\n",
    "    [1, 1, 0, 0, 1, 1],\n",
    "    [1, 1, 0, 0, 1, 1],\n",
    "    [0, 1, 1, 1, 1, 0]\n",
    "]\n",
    "\n",
    "\n",
    "brick_2x2 = BrickRef(file_id=\"3003.dat\", name=\"2x2\", color=15, h=24, w=20, d=20)\n",
    "lego_world = LegoWorld(mapping_array_l, brick_2x2)\n",
    "\n",
    "print(lego_world.str_full_infos())\n",
    "\n",
    "print(lego_world.check_illegal_bricks())"
   ]
  },
  {
   "cell_type": "code",
   "execution_count": null,
   "metadata": {},
   "outputs": [],
   "source": []
  },
  {
   "cell_type": "code",
   "execution_count": 3,
   "metadata": {},
   "outputs": [
    {
     "ename": "NameError",
     "evalue": "name 'format_ldraw' is not defined",
     "output_type": "error",
     "traceback": [
      "\u001b[1;31m---------------------------------------------------------------------------\u001b[0m",
      "\u001b[1;31mNameError\u001b[0m                                 Traceback (most recent call last)",
      "Cell \u001b[1;32mIn[3], line 1\u001b[0m\n\u001b[1;32m----> 1\u001b[0m ldraw_data \u001b[38;5;241m=\u001b[39m \u001b[43mformat_ldraw\u001b[49m(lego_world)\n\u001b[0;32m      2\u001b[0m save_ldr(ldraw_data, \u001b[38;5;124m\"\u001b[39m\u001b[38;5;124mtest_file_2x2_o\u001b[39m\u001b[38;5;124m\"\u001b[39m)\n",
      "\u001b[1;31mNameError\u001b[0m: name 'format_ldraw' is not defined"
     ]
    }
   ],
   "source": [
    "ldraw_data = format_ldraw(lego_world)\n",
    "save_ldr(ldraw_data, \"test_file_2x2_o\")"
   ]
  },
  {
   "cell_type": "code",
   "execution_count": null,
   "metadata": {},
   "outputs": [
    {
     "data": {
      "text/plain": [
       "['1 15 20 -96 0 1 0 0 0 1 0 0 0 1 3003.dat',\n",
       " '1 15 60 -96 0 1 0 0 0 1 0 0 0 1 3003.dat',\n",
       " '1 15 0 -72 0 1 0 0 0 1 0 0 0 1 3003.dat',\n",
       " '1 15 80 -72 0 1 0 0 0 1 0 0 0 1 3003.dat',\n",
       " '1 15 0 -48 0 1 0 0 0 1 0 0 0 1 3003.dat',\n",
       " '1 15 80 -48 0 1 0 0 0 1 0 0 0 1 3003.dat',\n",
       " '1 15 0 -24 0 1 0 0 0 1 0 0 0 1 3003.dat',\n",
       " '1 15 80 -24 0 1 0 0 0 1 0 0 0 1 3003.dat',\n",
       " '1 15 20 0 0 1 0 0 0 1 0 0 0 1 3003.dat',\n",
       " '1 15 60 0 0 1 0 0 0 1 0 0 0 1 3003.dat']"
      ]
     },
     "execution_count": 88,
     "metadata": {},
     "output_type": "execute_result"
    }
   ],
   "source": [
    "ldraw_data"
   ]
  },
  {
   "cell_type": "code",
   "execution_count": null,
   "metadata": {},
   "outputs": [],
   "source": []
  }
 ],
 "metadata": {
  "kernelspec": {
   "display_name": "Text2Bricks-o1TAQkkB",
   "language": "python",
   "name": "python3"
  },
  "language_info": {
   "codemirror_mode": {
    "name": "ipython",
    "version": 3
   },
   "file_extension": ".py",
   "mimetype": "text/x-python",
   "name": "python",
   "nbconvert_exporter": "python",
   "pygments_lexer": "ipython3",
   "version": "3.8.10"
  }
 },
 "nbformat": 4,
 "nbformat_minor": 2
}
