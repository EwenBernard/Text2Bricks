{
 "cells": [
  {
   "cell_type": "code",
   "execution_count": 1,
   "metadata": {},
   "outputs": [],
   "source": [
    "from text2brick.models import BrickRef\n",
    "from text2brick.managers import SingleBrickLegoWorldManager\n",
    "from text2brick.gym import LegoEnv"
   ]
  },
  {
   "cell_type": "code",
   "execution_count": 2,
   "metadata": {},
   "outputs": [
    {
     "ename": "TypeError",
     "evalue": "'int' object is not subscriptable",
     "output_type": "error",
     "traceback": [
      "\u001b[1;31m---------------------------------------------------------------------------\u001b[0m",
      "\u001b[1;31mTypeError\u001b[0m                                 Traceback (most recent call last)",
      "Cell \u001b[1;32mIn[2], line 17\u001b[0m\n\u001b[0;32m      8\u001b[0m mapping_array_o \u001b[38;5;241m=\u001b[39m [\n\u001b[0;32m      9\u001b[0m     [\u001b[38;5;241m0\u001b[39m, \u001b[38;5;241m1\u001b[39m, \u001b[38;5;241m1\u001b[39m, \u001b[38;5;241m1\u001b[39m, \u001b[38;5;241m1\u001b[39m, \u001b[38;5;241m0\u001b[39m],\n\u001b[0;32m     10\u001b[0m     [\u001b[38;5;241m1\u001b[39m, \u001b[38;5;241m1\u001b[39m, \u001b[38;5;241m0\u001b[39m, \u001b[38;5;241m0\u001b[39m, \u001b[38;5;241m1\u001b[39m, \u001b[38;5;241m1\u001b[39m],\n\u001b[1;32m   (...)\u001b[0m\n\u001b[0;32m     13\u001b[0m     [\u001b[38;5;241m0\u001b[39m, \u001b[38;5;241m1\u001b[39m, \u001b[38;5;241m1\u001b[39m, \u001b[38;5;241m1\u001b[39m, \u001b[38;5;241m1\u001b[39m, \u001b[38;5;241m0\u001b[39m]\n\u001b[0;32m     14\u001b[0m ]\n\u001b[0;32m     16\u001b[0m brick_2x2 \u001b[38;5;241m=\u001b[39m BrickRef(file_id\u001b[38;5;241m=\u001b[39m\u001b[38;5;124m\"\u001b[39m\u001b[38;5;124m3003.dat\u001b[39m\u001b[38;5;124m\"\u001b[39m, name\u001b[38;5;241m=\u001b[39m\u001b[38;5;124m\"\u001b[39m\u001b[38;5;124m2x2\u001b[39m\u001b[38;5;124m\"\u001b[39m, color\u001b[38;5;241m=\u001b[39m\u001b[38;5;241m15\u001b[39m, h\u001b[38;5;241m=\u001b[39m\u001b[38;5;241m24\u001b[39m, w\u001b[38;5;241m=\u001b[39m\u001b[38;5;241m20\u001b[39m, d\u001b[38;5;241m=\u001b[39m\u001b[38;5;241m20\u001b[39m)\n\u001b[1;32m---> 17\u001b[0m lego_world \u001b[38;5;241m=\u001b[39m \u001b[43mSingleBrickLegoWorldManager\u001b[49m\u001b[43m(\u001b[49m\u001b[43mmapping_array_l\u001b[49m\u001b[43m,\u001b[49m\u001b[43m \u001b[49m\u001b[43mbrick_2x2\u001b[49m\u001b[43m)\u001b[49m\n\u001b[0;32m     19\u001b[0m \u001b[38;5;28mprint\u001b[39m(lego_world\u001b[38;5;241m.\u001b[39mdata\u001b[38;5;241m.\u001b[39mworld\u001b[38;5;241m.\u001b[39mstr_full_infos())\n\u001b[0;32m     21\u001b[0m illegal_bricks \u001b[38;5;241m=\u001b[39m lego_world\u001b[38;5;241m.\u001b[39mcheck_illegal_bricks()\n",
      "File \u001b[1;32mc:\\Users\\ebern\\Documents\\GitHub\\Text2Bricks\\text2brick\\managers\\world\\SingleBrickLegoWorldManager.py:9\u001b[0m, in \u001b[0;36mSingleBrickLegoWorldManager.__init__\u001b[1;34m(self, table, brick_ref, world_dimension)\u001b[0m\n\u001b[0;32m      7\u001b[0m \u001b[38;5;28;01mdef\u001b[39;00m \u001b[38;5;21m__init__\u001b[39m(\u001b[38;5;28mself\u001b[39m, table: List[List[\u001b[38;5;28mint\u001b[39m]], brick_ref: BrickRef \u001b[38;5;241m=\u001b[39m \u001b[38;5;28;01mNone\u001b[39;00m, world_dimension \u001b[38;5;241m=\u001b[39m (\u001b[38;5;241m10\u001b[39m, \u001b[38;5;241m10\u001b[39m, \u001b[38;5;241m1\u001b[39m)) \u001b[38;5;241m-\u001b[39m\u001b[38;5;241m>\u001b[39m \u001b[38;5;28;01mNone\u001b[39;00m:\n\u001b[0;32m      8\u001b[0m     \u001b[38;5;28msuper\u001b[39m()\u001b[38;5;241m.\u001b[39m\u001b[38;5;21m__init__\u001b[39m(table\u001b[38;5;241m=\u001b[39mtable, world_dimension\u001b[38;5;241m=\u001b[39mworld_dimension)\n\u001b[1;32m----> 9\u001b[0m     \u001b[38;5;28mself\u001b[39m\u001b[38;5;241m.\u001b[39mdata : SingleBrickLegoWorldData \u001b[38;5;241m=\u001b[39m \u001b[38;5;28;43mself\u001b[39;49m\u001b[38;5;241;43m.\u001b[39;49m\u001b[43m_create_world_from_table\u001b[49m\u001b[43m(\u001b[49m\u001b[43mtable\u001b[49m\u001b[43m,\u001b[49m\u001b[43m \u001b[49m\u001b[43mbrick_ref\u001b[49m\u001b[43m,\u001b[49m\u001b[43m \u001b[49m\u001b[43mworld_dimension\u001b[49m\u001b[38;5;241;43m=\u001b[39;49m\u001b[43mworld_dimension\u001b[49m\u001b[43m)\u001b[49m\n\u001b[0;32m     11\u001b[0m     \u001b[38;5;28;01mif\u001b[39;00m \u001b[38;5;28mself\u001b[39m\u001b[38;5;241m.\u001b[39mdata\u001b[38;5;241m.\u001b[39mworld:\n\u001b[0;32m     12\u001b[0m         \u001b[38;5;28mself\u001b[39m\u001b[38;5;241m.\u001b[39m_init_bricks_connections()\n",
      "File \u001b[1;32mc:\\Users\\ebern\\Documents\\GitHub\\Text2Bricks\\text2brick\\managers\\world\\SingleBrickLegoWorldManager.py:50\u001b[0m, in \u001b[0;36mSingleBrickLegoWorldManager._create_world_from_table\u001b[1;34m(self, table, brick_ref, world_dimension)\u001b[0m\n\u001b[0;32m     45\u001b[0m \u001b[38;5;28;01mif\u001b[39;00m x \u001b[38;5;241m+\u001b[39m \u001b[38;5;241m1\u001b[39m \u001b[38;5;241m<\u001b[39m cols \u001b[38;5;129;01mand\u001b[39;00m \u001b[38;5;28mall\u001b[39m(\n\u001b[0;32m     46\u001b[0m     table[y][x \u001b[38;5;241m+\u001b[39m dx] \u001b[38;5;241m==\u001b[39m \u001b[38;5;241m1\u001b[39m \u001b[38;5;129;01mand\u001b[39;00m \u001b[38;5;129;01mnot\u001b[39;00m visited[y][x \u001b[38;5;241m+\u001b[39m dx]\n\u001b[0;32m     47\u001b[0m     \u001b[38;5;28;01mfor\u001b[39;00m dx \u001b[38;5;129;01min\u001b[39;00m \u001b[38;5;28mrange\u001b[39m(\u001b[38;5;241m2\u001b[39m)\n\u001b[0;32m     48\u001b[0m ):\n\u001b[0;32m     49\u001b[0m     brick_id \u001b[38;5;241m+\u001b[39m\u001b[38;5;241m=\u001b[39m \u001b[38;5;241m1\u001b[39m\n\u001b[1;32m---> 50\u001b[0m     world\u001b[38;5;241m.\u001b[39mappend(\u001b[43mBrick\u001b[49m\u001b[43m(\u001b[49m\u001b[43mx\u001b[49m\u001b[38;5;241;43m=\u001b[39;49m\u001b[43mx\u001b[49m\u001b[43m \u001b[49m\u001b[38;5;241;43m*\u001b[39;49m\u001b[43m \u001b[49m\u001b[43mbrick_ref\u001b[49m\u001b[38;5;241;43m.\u001b[39;49m\u001b[43mw\u001b[49m\u001b[43m \u001b[49m\u001b[38;5;241;43m/\u001b[39;49m\u001b[43m \u001b[49m\u001b[38;5;241;43m2\u001b[39;49m\u001b[43m,\u001b[49m\u001b[43m \u001b[49m\u001b[43my\u001b[49m\u001b[38;5;241;43m=\u001b[39;49m\u001b[38;5;241;43m-\u001b[39;49m\u001b[43mheight_multiplier\u001b[49m\u001b[43m \u001b[49m\u001b[38;5;241;43m*\u001b[39;49m\u001b[43m \u001b[49m\u001b[43mbrick_ref\u001b[49m\u001b[38;5;241;43m.\u001b[39;49m\u001b[43mh\u001b[49m\u001b[43m,\u001b[49m\u001b[43m \u001b[49m\u001b[43mz\u001b[49m\u001b[38;5;241;43m=\u001b[39;49m\u001b[38;5;241;43m0\u001b[39;49m\u001b[43m,\u001b[49m\u001b[43m \u001b[49m\u001b[43mbrick_ref\u001b[49m\u001b[38;5;241;43m=\u001b[39;49m\u001b[43mbrick_ref\u001b[49m\u001b[43m,\u001b[49m\u001b[43m \u001b[49m\u001b[43mbrick_id\u001b[49m\u001b[38;5;241;43m=\u001b[39;49m\u001b[43mbrick_id\u001b[49m\u001b[43m)\u001b[49m)\n\u001b[0;32m     51\u001b[0m     \u001b[38;5;28;01mfor\u001b[39;00m dx \u001b[38;5;129;01min\u001b[39;00m \u001b[38;5;28mrange\u001b[39m(\u001b[38;5;241m2\u001b[39m):\n\u001b[0;32m     52\u001b[0m         visited[y][x \u001b[38;5;241m+\u001b[39m dx] \u001b[38;5;241m=\u001b[39m \u001b[38;5;28;01mTrue\u001b[39;00m\n",
      "    \u001b[1;31m[... skipping hidden 1 frame]\u001b[0m\n",
      "File \u001b[1;32mc:\\Users\\ebern\\Documents\\GitHub\\Text2Bricks\\text2brick\\models\\Brick.py:31\u001b[0m, in \u001b[0;36mBrick.check_y_dimension\u001b[1;34m(cls, v)\u001b[0m\n\u001b[0;32m     29\u001b[0m \u001b[38;5;129m@field_validator\u001b[39m(\u001b[38;5;124m\"\u001b[39m\u001b[38;5;124my\u001b[39m\u001b[38;5;124m\"\u001b[39m)\n\u001b[0;32m     30\u001b[0m \u001b[38;5;28;01mdef\u001b[39;00m \u001b[38;5;21mcheck_y_dimension\u001b[39m(\u001b[38;5;28mcls\u001b[39m, v):\n\u001b[1;32m---> 31\u001b[0m     \u001b[38;5;28;01mif\u001b[39;00m \u001b[43mv\u001b[49m\u001b[43m[\u001b[49m\u001b[38;5;241;43m1\u001b[39;49m\u001b[43m]\u001b[49m \u001b[38;5;241m<\u001b[39m \u001b[38;5;241m0\u001b[39m:\n\u001b[0;32m     32\u001b[0m         \u001b[38;5;28;01mraise\u001b[39;00m \u001b[38;5;167;01mValueError\u001b[39;00m(\u001b[38;5;124m\"\u001b[39m\u001b[38;5;124mThe \u001b[39m\u001b[38;5;124m'\u001b[39m\u001b[38;5;124my\u001b[39m\u001b[38;5;124m'\u001b[39m\u001b[38;5;124m dimension must be greater than or equal to 0.\u001b[39m\u001b[38;5;124m\"\u001b[39m)\n\u001b[0;32m     33\u001b[0m     \u001b[38;5;28;01mreturn\u001b[39;00m v\n",
      "\u001b[1;31mTypeError\u001b[0m: 'int' object is not subscriptable"
     ]
    }
   ],
   "source": [
    "mapping_array_l = [\n",
    "    [0, 0, 0, 0],\n",
    "    [1, 1, 1, 1],\n",
    "    [1, 1, 1, 1],\n",
    "    [1, 1, 0, 0]\n",
    "]\n",
    "\n",
    "mapping_array_o = [\n",
    "    [0, 1, 1, 1, 1, 0],\n",
    "    [1, 1, 0, 0, 1, 1],\n",
    "    [1, 1, 0, 0, 1, 1],\n",
    "    [1, 1, 0, 0, 1, 1],\n",
    "    [0, 1, 1, 1, 1, 0]\n",
    "]\n",
    "\n",
    "brick_2x2 = BrickRef(file_id=\"3003.dat\", name=\"2x2\", color=15, h=24, w=20, d=20)\n",
    "lego_world = SingleBrickLegoWorldManager(mapping_array_l, brick_2x2)\n",
    "\n",
    "print(lego_world.data.world.str_full_infos())\n",
    "\n",
    "illegal_bricks = lego_world.check_illegal_bricks()\n",
    "\n",
    "if not illegal_bricks:\n",
    "    print(\"\\nNo illegal bricks found\")\n",
    "\n",
    "for brick in illegal_bricks:\n",
    "    brick_info, error_msg = brick\n",
    "    print(\"\\nIllegal Brick\", brick_info)\n",
    "    print(\"Error\", error_msg)\n"
   ]
  },
  {
   "cell_type": "code",
   "execution_count": 3,
   "metadata": {},
   "outputs": [],
   "source": [
    "lego_world.save_ldr(\"test_file_2x2_o\")"
   ]
  },
  {
   "cell_type": "code",
   "execution_count": 7,
   "metadata": {},
   "outputs": [
    {
     "name": "stdout",
     "output_type": "stream",
     "text": [
      "[[0 0 0 0 0 0 0 0 0 0]\n",
      " [1 1 0 0 0 0 0 0 0 0]\n",
      " [0 0 0 0 0 0 0 0 0 0]\n",
      " [0 0 0 0 0 0 0 0 0 0]\n",
      " [0 0 0 0 0 1 1 0 0 0]\n",
      " [0 0 0 0 0 0 0 0 0 0]\n",
      " [0 0 0 0 0 0 0 0 0 0]\n",
      " [0 0 0 0 0 0 0 0 0 0]\n",
      " [0 1 1 0 0 0 0 0 0 0]\n",
      " [1 1 0 0 0 0 0 0 0 0]]\n"
     ]
    }
   ],
   "source": [
    "env = LegoEnv(10)\n",
    "\n",
    "# Reset and observe the initial state\n",
    "# print(\"Initial state:\")\n",
    "# print(env.reset())\n",
    "\n",
    "# Take an action\n",
    "action = env.generate_random_action()\n",
    "observation, reward, done, info = env.step(action)\n",
    "\n",
    "observation, reward, done, info = env.step((1, 0))\n",
    "observation, reward, done, info = env.step((9, 0))\n",
    "observation, reward, done, info = env.step((8, 1))\n",
    "print(observation)"
   ]
  },
  {
   "cell_type": "code",
   "execution_count": 8,
   "metadata": {},
   "outputs": [
    {
     "name": "stdout",
     "output_type": "stream",
     "text": [
      "Lego World Bricks\n",
      "id: 1 x: 0 | y: -192 | z: 0 | ID: 3003.dat | Name: 2x2 | Color: 15 | h:24 | w:20 | d:20 | Connected to: []\n",
      "id: 2 x: 50 | y: -120 | z: 0 | ID: 3003.dat | Name: 2x2 | Color: 15 | h:24 | w:20 | d:20 | Connected to: []\n",
      "id: 3 x: 10 | y: -24 | z: 0 | ID: 3003.dat | Name: 2x2 | Color: 15 | h:24 | w:20 | d:20 | Connected to: [4]\n",
      "id: 4 x: 0 | y: 0 | z: 0 | ID: 3003.dat | Name: 2x2 | Color: 15 | h:24 | w:20 | d:20 | Connected to: [3]\n",
      "\n",
      "Illegal Brick id: 1 x: 0 | y: -192 | z: 0 | ID: 3003.dat | Name: 2x2 | Color: 15 | h:24 | w:20 | d:20 | Connected to: []\n",
      "Error Floating brick - no connections and below ground\n",
      "\n",
      "Illegal Brick id: 2 x: 50 | y: -120 | z: 0 | ID: 3003.dat | Name: 2x2 | Color: 15 | h:24 | w:20 | d:20 | Connected to: []\n",
      "Error Floating brick - no connections and below ground\n"
     ]
    }
   ],
   "source": [
    "lego_world = LegoWorld(observation, brick_2x2)\n",
    "\n",
    "# Check the validity of the new environnement observation\n",
    "illegal_bricks = lego_world.check_illegal_bricks()\n",
    "print(lego_world.str_full_infos())\n",
    "for brick in illegal_bricks:\n",
    "    brick_info, error_msg = brick\n",
    "    print(\"\\nIllegal Brick\", brick_info)\n",
    "    print(\"Error\", error_msg)"
   ]
  }
 ],
 "metadata": {
  "kernelspec": {
   "display_name": "Python 3",
   "language": "python",
   "name": "python3"
  },
  "language_info": {
   "codemirror_mode": {
    "name": "ipython",
    "version": 3
   },
   "file_extension": ".py",
   "mimetype": "text/x-python",
   "name": "python",
   "nbconvert_exporter": "python",
   "pygments_lexer": "ipython3",
   "version": "3.8.10"
  }
 },
 "nbformat": 4,
 "nbformat_minor": 2
}
