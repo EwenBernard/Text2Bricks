{
 "cells": [
  {
   "cell_type": "code",
   "execution_count": 1,
   "metadata": {},
   "outputs": [],
   "source": [
    "from text2brick.models import BrickRef\n",
    "from text2brick.managers import SingleBrickLegoWorldManager\n",
    "from text2brick.gym import LegoEnv\n",
    "from text2brick.utils.WorldDataUtils import format_ldraw, save_ldr"
   ]
  },
  {
   "cell_type": "code",
   "execution_count": 6,
   "metadata": {},
   "outputs": [
    {
     "name": "stdout",
     "output_type": "stream",
     "text": [
      "Lego World Bricks\n",
      "id: 1 x: 0 | y: -48 | z: 0 | ID: 3003.dat | Name: 2x2 | Color: 15 | h:24 | w:20 | d:20 | Connected to: [3]\n",
      "id: 2 x: 20 | y: -48 | z: 0 | ID: 3003.dat | Name: 2x2 | Color: 15 | h:24 | w:20 | d:20 | Connected to: [4]\n",
      "id: 3 x: 0 | y: -24 | z: 0 | ID: 3003.dat | Name: 2x2 | Color: 15 | h:24 | w:20 | d:20 | Connected to: [1, 5]\n",
      "id: 4 x: 20 | y: -24 | z: 0 | ID: 3003.dat | Name: 2x2 | Color: 15 | h:24 | w:20 | d:20 | Connected to: [2]\n",
      "id: 5 x: 0 | y: 0 | z: 0 | ID: 3003.dat | Name: 2x2 | Color: 15 | h:24 | w:20 | d:20 | Connected to: [3]\n"
     ]
    }
   ],
   "source": [
    "mapping_array_l = [\n",
    "    [0, 0, 0, 0],\n",
    "    [1, 1, 1, 1],\n",
    "    [1, 1, 1, 1],\n",
    "    [1, 1, 0, 0]\n",
    "]\n",
    "\n",
    "mapping_array_o = [\n",
    "    [0, 1, 1, 1, 1, 0],\n",
    "    [1, 1, 0, 0, 1, 1],\n",
    "    [1, 1, 0, 0, 1, 1],\n",
    "    [1, 1, 0, 0, 1, 1],\n",
    "    [0, 1, 1, 1, 1, 0]\n",
    "]\n",
    "\n",
    "brick_2x2 = BrickRef(file_id=\"3003.dat\", name=\"2x2\", color=15, h=24, w=20, d=20)\n",
    "lego_world = SingleBrickLegoWorldManager(mapping_array_l, brick_2x2, remove_illegal_brick_init=False)\n",
    "\n",
    "print(lego_world.data.str_full_infos())\n",
    "\n",
    "# illegal_bricks = lego_world.check_illegal_bricks()\n",
    "\n",
    "# if not illegal_bricks:\n",
    "#     print(\"\\nNo illegal bricks found\")\n",
    "\n",
    "# for brick in illegal_bricks:\n",
    "#     brick_info, error_msg = brick\n",
    "#     print(\"\\nIllegal Brick\", brick_info)\n",
    "#     print(\"Error\", error_msg)\n"
   ]
  },
  {
   "cell_type": "code",
   "execution_count": null,
   "metadata": {},
   "outputs": [],
   "source": []
  },
  {
   "cell_type": "code",
   "execution_count": 3,
   "metadata": {},
   "outputs": [
    {
     "data": {
      "text/plain": [
       "{1, 3, 5}"
      ]
     },
     "execution_count": 3,
     "metadata": {},
     "output_type": "execute_result"
    }
   ],
   "source": [
    "lego_world.data.valid_bricks"
   ]
  },
  {
   "cell_type": "code",
   "execution_count": 4,
   "metadata": {},
   "outputs": [],
   "source": [
    "save_ldr(lego_world.data, \"test_file_2x2_o\")"
   ]
  },
  {
   "cell_type": "code",
   "execution_count": 5,
   "metadata": {},
   "outputs": [
    {
     "name": "stdout",
     "output_type": "stream",
     "text": [
      "[[0 0 0 0 0 0 0 0 0 0]\n",
      " [1 1 0 0 0 0 0 0 0 0]\n",
      " [0 0 0 0 0 0 0 0 0 0]\n",
      " [0 0 0 0 0 0 0 0 0 0]\n",
      " [0 0 0 0 1 1 0 0 0 0]\n",
      " [0 0 0 0 0 0 0 0 0 0]\n",
      " [0 0 0 0 0 0 0 0 0 0]\n",
      " [0 0 0 0 0 0 0 0 0 0]\n",
      " [0 1 1 0 0 0 0 0 0 0]\n",
      " [1 1 0 0 0 0 0 0 0 0]]\n"
     ]
    }
   ],
   "source": [
    "env = LegoEnv(10)\n",
    "\n",
    "# Reset and observe the initial state\n",
    "# print(\"Initial state:\")\n",
    "# print(env.reset())\n",
    "\n",
    "# Take an action\n",
    "action = env.generate_random_action()\n",
    "observation, reward, done, info = env.step(action)\n",
    "\n",
    "observation, reward, done, info = env.step((1, 0))\n",
    "observation, reward, done, info = env.step((9, 0))\n",
    "observation, reward, done, info = env.step((8, 1))\n",
    "print(observation)"
   ]
  }
 ],
 "metadata": {
  "kernelspec": {
   "display_name": "Python 3",
   "language": "python",
   "name": "python3"
  },
  "language_info": {
   "codemirror_mode": {
    "name": "ipython",
    "version": 3
   },
   "file_extension": ".py",
   "mimetype": "text/x-python",
   "name": "python",
   "nbconvert_exporter": "python",
   "pygments_lexer": "ipython3",
   "version": "3.8.10"
  }
 },
 "nbformat": 4,
 "nbformat_minor": 2
}
