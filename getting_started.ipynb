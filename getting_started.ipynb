{
 "cells": [
  {
   "cell_type": "markdown",
   "metadata": {},
   "source": [
    "## Getting started"
   ]
  },
  {
   "cell_type": "code",
   "execution_count": 31,
   "metadata": {},
   "outputs": [],
   "source": [
    "from text2brick.models import Brick, BrickRef\n",
    "from text2brick.managers import SingleBrickLegoWorldManager\n",
    "from text2brick.models import BrickGetterEnum\n",
    "from text2brick.utils.WorldDataUtils import format_ldraw, save_ldr\n",
    "from text2brick.gym import LegoEnv"
   ]
  },
  {
   "cell_type": "markdown",
   "metadata": {},
   "source": [
    "A brick type is defined by the object BrickRef defined by a file_id (id of ldraw file), a name, a color (from 0 to 15 - white) and dimension. dimension of a lego brick are defined by a height, width and depth (h, w, d) in lego unit (1u = 1 stud in the lego world)"
   ]
  },
  {
   "cell_type": "code",
   "execution_count": 32,
   "metadata": {},
   "outputs": [],
   "source": [
    "brickref = BrickRef(file_id='3003.dat', name='2x2', color=15, h=1, w=2, d=2)"
   ]
  },
  {
   "cell_type": "markdown",
   "metadata": {},
   "source": [
    "You can define a brick with the Brick object composed of a brick_id, brick type, x, y and z coords."
   ]
  },
  {
   "cell_type": "code",
   "execution_count": 33,
   "metadata": {},
   "outputs": [],
   "source": [
    "brick = Brick(brick_id=4, brick_ref=brickref, x=2, y=0, z=0)"
   ]
  },
  {
   "cell_type": "code",
   "execution_count": 34,
   "metadata": {},
   "outputs": [
    {
     "data": {
      "text/plain": [
       "Brick(brick_id=4, x=2, y=0, z=0, brick_ref=BrickRef(file_id='3003.dat', name='2x2', color=15, h=1, w=2, d=2), connected_to=[])"
      ]
     },
     "execution_count": 34,
     "metadata": {},
     "output_type": "execute_result"
    }
   ],
   "source": [
    "brick"
   ]
  },
  {
   "cell_type": "markdown",
   "metadata": {},
   "source": [
    "You can define a Lego world with a mapping table. Each 1 is 1 lego brick stud."
   ]
  },
  {
   "cell_type": "code",
   "execution_count": 35,
   "metadata": {},
   "outputs": [],
   "source": [
    "mapping_table = [[0, 0, 0, 0, 0, 0],\n",
    "                 [1, 1, 0, 0, 0, 0],\n",
    "                 [1, 1, 0, 0, 0, 0],\n",
    "                 [1, 1, 0, 0, 1, 1]]"
   ]
  },
  {
   "cell_type": "markdown",
   "metadata": {},
   "source": [
    "You can init a lego world by creating a SingleBrickLegoWorldManager (1 type of brick only for the moment)"
   ]
  },
  {
   "cell_type": "code",
   "execution_count": 36,
   "metadata": {},
   "outputs": [
    {
     "name": "stdout",
     "output_type": "stream",
     "text": [
      "Creating brick 0 at (0, 1)\n",
      "Creating brick 1 at (0, 2)\n",
      "Creating brick 2 at (0, 3)\n",
      "Creating brick 3 at (4, 3)\n"
     ]
    }
   ],
   "source": [
    "lego_world = SingleBrickLegoWorldManager(table=mapping_table, brick_ref=brickref)"
   ]
  },
  {
   "cell_type": "code",
   "execution_count": 37,
   "metadata": {},
   "outputs": [
    {
     "name": "stdout",
     "output_type": "stream",
     "text": [
      "Lego World Bricks\n",
      "id: 0 x: 0 | y: 2 | z: 0 | ID: 3003.dat | Name: 2x2 | Color: 15 | h:1 | w:2 | d:2 | Connected to: [1]\n",
      "id: 1 x: 0 | y: 1 | z: 0 | ID: 3003.dat | Name: 2x2 | Color: 15 | h:1 | w:2 | d:2 | Connected to: [0, 2]\n",
      "id: 2 x: 0 | y: 0 | z: 0 | ID: 3003.dat | Name: 2x2 | Color: 15 | h:1 | w:2 | d:2 | Connected to: [1]\n",
      "id: 3 x: 4 | y: 0 | z: 0 | ID: 3003.dat | Name: 2x2 | Color: 15 | h:1 | w:2 | d:2 | Connected to: []\n"
     ]
    }
   ],
   "source": [
    "print(lego_world.data.str_full_infos())"
   ]
  },
  {
   "cell_type": "markdown",
   "metadata": {},
   "source": [
    "You can retrieve a block from world by ID or COORD (x, y, z)"
   ]
  },
  {
   "cell_type": "code",
   "execution_count": 38,
   "metadata": {},
   "outputs": [],
   "source": [
    "brick_1 = lego_world.get_brick(identifier=0, lookup_type=BrickGetterEnum.ID)"
   ]
  },
  {
   "cell_type": "code",
   "execution_count": 39,
   "metadata": {},
   "outputs": [
    {
     "data": {
      "text/plain": [
       "Brick(brick_id=0, x=0, y=2, z=0, brick_ref=BrickRef(file_id='3003.dat', name='2x2', color=15, h=1, w=2, d=2), connected_to=[Brick(brick_id=1, x=0, y=1, z=0, brick_ref=BrickRef(file_id='3003.dat', name='2x2', color=15, h=1, w=2, d=2), connected_to=[Brick(brick_id=0, x=0, y=2, z=0, brick_ref=BrickRef(file_id='3003.dat', name='2x2', color=15, h=1, w=2, d=2), connected_to=[...]), Brick(brick_id=2, x=0, y=0, z=0, brick_ref=BrickRef(file_id='3003.dat', name='2x2', color=15, h=1, w=2, d=2), connected_to=[Brick(brick_id=1, x=0, y=1, z=0, brick_ref=BrickRef(file_id='3003.dat', name='2x2', color=15, h=1, w=2, d=2), connected_to=[...])])])])"
      ]
     },
     "execution_count": 39,
     "metadata": {},
     "output_type": "execute_result"
    }
   ],
   "source": [
    "brick_1"
   ]
  },
  {
   "cell_type": "code",
   "execution_count": 40,
   "metadata": {},
   "outputs": [],
   "source": [
    "brick_2 = lego_world.get_brick(identifier=[0, 2, 0], lookup_type=BrickGetterEnum.COORDS)"
   ]
  },
  {
   "cell_type": "code",
   "execution_count": 41,
   "metadata": {},
   "outputs": [
    {
     "data": {
      "text/plain": [
       "Brick(brick_id=0, x=0, y=2, z=0, brick_ref=BrickRef(file_id='3003.dat', name='2x2', color=15, h=1, w=2, d=2), connected_to=[Brick(brick_id=1, x=0, y=1, z=0, brick_ref=BrickRef(file_id='3003.dat', name='2x2', color=15, h=1, w=2, d=2), connected_to=[Brick(brick_id=0, x=0, y=2, z=0, brick_ref=BrickRef(file_id='3003.dat', name='2x2', color=15, h=1, w=2, d=2), connected_to=[...]), Brick(brick_id=2, x=0, y=0, z=0, brick_ref=BrickRef(file_id='3003.dat', name='2x2', color=15, h=1, w=2, d=2), connected_to=[Brick(brick_id=1, x=0, y=1, z=0, brick_ref=BrickRef(file_id='3003.dat', name='2x2', color=15, h=1, w=2, d=2), connected_to=[...])])])])"
      ]
     },
     "execution_count": 41,
     "metadata": {},
     "output_type": "execute_result"
    }
   ],
   "source": [
    "brick_2"
   ]
  },
  {
   "cell_type": "markdown",
   "metadata": {},
   "source": [
    "Check for valid brick id "
   ]
  },
  {
   "cell_type": "code",
   "execution_count": 42,
   "metadata": {},
   "outputs": [
    {
     "data": {
      "text/plain": [
       "{0, 1, 2, 3}"
      ]
     },
     "execution_count": 42,
     "metadata": {},
     "output_type": "execute_result"
    }
   ],
   "source": [
    "lego_world.data.valid_bricks"
   ]
  },
  {
   "cell_type": "code",
   "execution_count": 43,
   "metadata": {},
   "outputs": [
    {
     "data": {
      "text/plain": [
       "True"
      ]
     },
     "execution_count": 43,
     "metadata": {},
     "output_type": "execute_result"
    }
   ],
   "source": [
    "lego_world.check_brick_validity(brick_1)"
   ]
  },
  {
   "cell_type": "code",
   "execution_count": 44,
   "metadata": {},
   "outputs": [
    {
     "data": {
      "text/plain": [
       "{0, 1, 2, 3}"
      ]
     },
     "execution_count": 44,
     "metadata": {},
     "output_type": "execute_result"
    }
   ],
   "source": [
    "lego_world.data.valid_bricks"
   ]
  },
  {
   "cell_type": "markdown",
   "metadata": {},
   "source": [
    "You can add brick by defining one"
   ]
  },
  {
   "cell_type": "code",
   "execution_count": 45,
   "metadata": {},
   "outputs": [
    {
     "data": {
      "text/plain": [
       "True"
      ]
     },
     "execution_count": 45,
     "metadata": {},
     "output_type": "execute_result"
    }
   ],
   "source": [
    "lego_world.add_brick(brick)"
   ]
  },
  {
   "cell_type": "code",
   "execution_count": 46,
   "metadata": {},
   "outputs": [
    {
     "name": "stdout",
     "output_type": "stream",
     "text": [
      "Lego World Bricks\n",
      "id: 0 x: 0 | y: 2 | z: 0 | ID: 3003.dat | Name: 2x2 | Color: 15 | h:1 | w:2 | d:2 | Connected to: [1]\n",
      "id: 1 x: 0 | y: 1 | z: 0 | ID: 3003.dat | Name: 2x2 | Color: 15 | h:1 | w:2 | d:2 | Connected to: [0, 2]\n",
      "id: 2 x: 0 | y: 0 | z: 0 | ID: 3003.dat | Name: 2x2 | Color: 15 | h:1 | w:2 | d:2 | Connected to: [1]\n",
      "id: 3 x: 4 | y: 0 | z: 0 | ID: 3003.dat | Name: 2x2 | Color: 15 | h:1 | w:2 | d:2 | Connected to: []\n",
      "id: 4 x: 2 | y: 0 | z: 0 | ID: 3003.dat | Name: 2x2 | Color: 15 | h:1 | w:2 | d:2 | Connected to: []\n"
     ]
    }
   ],
   "source": [
    "print(lego_world.data.str_full_infos())"
   ]
  },
  {
   "cell_type": "markdown",
   "metadata": {},
   "source": [
    "or with x, y coords"
   ]
  },
  {
   "cell_type": "code",
   "execution_count": 47,
   "metadata": {},
   "outputs": [
    {
     "data": {
      "text/plain": [
       "True"
      ]
     },
     "execution_count": 47,
     "metadata": {},
     "output_type": "execute_result"
    }
   ],
   "source": [
    "lego_world.add_brick_from_coord(4, 1, brickref)"
   ]
  },
  {
   "cell_type": "code",
   "execution_count": 48,
   "metadata": {},
   "outputs": [
    {
     "name": "stdout",
     "output_type": "stream",
     "text": [
      "Lego World Bricks\n",
      "id: 0 x: 0 | y: 2 | z: 0 | ID: 3003.dat | Name: 2x2 | Color: 15 | h:1 | w:2 | d:2 | Connected to: [1]\n",
      "id: 1 x: 0 | y: 1 | z: 0 | ID: 3003.dat | Name: 2x2 | Color: 15 | h:1 | w:2 | d:2 | Connected to: [0, 2]\n",
      "id: 2 x: 0 | y: 0 | z: 0 | ID: 3003.dat | Name: 2x2 | Color: 15 | h:1 | w:2 | d:2 | Connected to: [1]\n",
      "id: 3 x: 4 | y: 0 | z: 0 | ID: 3003.dat | Name: 2x2 | Color: 15 | h:1 | w:2 | d:2 | Connected to: []\n",
      "id: 4 x: 2 | y: 0 | z: 0 | ID: 3003.dat | Name: 2x2 | Color: 15 | h:1 | w:2 | d:2 | Connected to: []\n",
      "id: 5 x: 4 | y: 1 | z: 0 | ID: 3003.dat | Name: 2x2 | Color: 15 | h:1 | w:2 | d:2 | Connected to: [3]\n"
     ]
    }
   ],
   "source": [
    "print(lego_world.data.str_full_infos())"
   ]
  },
  {
   "cell_type": "code",
   "execution_count": 49,
   "metadata": {},
   "outputs": [
    {
     "data": {
      "text/plain": [
       "{0, 1, 2, 3, 4, 5}"
      ]
     },
     "execution_count": 49,
     "metadata": {},
     "output_type": "execute_result"
    }
   ],
   "source": [
    "lego_world.data.valid_bricks"
   ]
  },
  {
   "cell_type": "code",
   "execution_count": 50,
   "metadata": {},
   "outputs": [
    {
     "name": "stdout",
     "output_type": "stream",
     "text": [
      "Piece Count : 6\n",
      "x: 0 | y: 2 | z: 0\n",
      "x: 0 | y: 1 | z: 0\n",
      "x: 0 | y: 0 | z: 0\n",
      "x: 4 | y: 0 | z: 0\n",
      "x: 2 | y: 0 | z: 0\n",
      "x: 4 | y: 1 | z: 0\n"
     ]
    }
   ],
   "source": [
    "print(lego_world.data)"
   ]
  },
  {
   "cell_type": "markdown",
   "metadata": {},
   "source": [
    "You can convert back the world to mapping table"
   ]
  },
  {
   "cell_type": "code",
   "execution_count": 51,
   "metadata": {},
   "outputs": [
    {
     "data": {
      "text/plain": [
       "array([[0, 0, 0, 0, 0, 0],\n",
       "       [1, 1, 0, 0, 0, 0],\n",
       "       [1, 1, 0, 0, 1, 1],\n",
       "       [1, 1, 1, 1, 1, 1]], dtype=uint8)"
      ]
     },
     "execution_count": 51,
     "metadata": {},
     "output_type": "execute_result"
    }
   ],
   "source": [
    "lego_world.recreate_table_from_world()"
   ]
  },
  {
   "cell_type": "markdown",
   "metadata": {},
   "source": [
    "Remove a brick"
   ]
  },
  {
   "cell_type": "code",
   "execution_count": 52,
   "metadata": {},
   "outputs": [
    {
     "data": {
      "text/plain": [
       "True"
      ]
     },
     "execution_count": 52,
     "metadata": {},
     "output_type": "execute_result"
    }
   ],
   "source": [
    "lego_world.remove_brick(brick)"
   ]
  },
  {
   "cell_type": "code",
   "execution_count": 53,
   "metadata": {},
   "outputs": [
    {
     "name": "stdout",
     "output_type": "stream",
     "text": [
      "Lego World Bricks\n",
      "id: 0 x: 0 | y: 2 | z: 0 | ID: 3003.dat | Name: 2x2 | Color: 15 | h:1 | w:2 | d:2 | Connected to: [1, 1]\n",
      "id: 1 x: 0 | y: 1 | z: 0 | ID: 3003.dat | Name: 2x2 | Color: 15 | h:1 | w:2 | d:2 | Connected to: [0, 2, 0, 2]\n",
      "id: 2 x: 0 | y: 0 | z: 0 | ID: 3003.dat | Name: 2x2 | Color: 15 | h:1 | w:2 | d:2 | Connected to: [1, 1]\n",
      "id: 3 x: 4 | y: 0 | z: 0 | ID: 3003.dat | Name: 2x2 | Color: 15 | h:1 | w:2 | d:2 | Connected to: [5]\n",
      "id: 5 x: 4 | y: 1 | z: 0 | ID: 3003.dat | Name: 2x2 | Color: 15 | h:1 | w:2 | d:2 | Connected to: [3, 3]\n"
     ]
    }
   ],
   "source": [
    "print(lego_world.data.str_full_infos())"
   ]
  },
  {
   "cell_type": "code",
   "execution_count": 54,
   "metadata": {},
   "outputs": [
    {
     "data": {
      "text/plain": [
       "array([[0, 0, 0, 0, 0, 0],\n",
       "       [1, 1, 0, 0, 0, 0],\n",
       "       [1, 1, 0, 0, 1, 1],\n",
       "       [1, 1, 0, 0, 1, 1]], dtype=uint8)"
      ]
     },
     "execution_count": 54,
     "metadata": {},
     "output_type": "execute_result"
    }
   ],
   "source": [
    "lego_world.recreate_table_from_world()"
   ]
  },
  {
   "cell_type": "markdown",
   "metadata": {},
   "source": [
    "Save to Ldraw Format"
   ]
  },
  {
   "cell_type": "code",
   "execution_count": 55,
   "metadata": {},
   "outputs": [],
   "source": [
    "world_ldraw_formatted = format_ldraw(lego_world.data)"
   ]
  },
  {
   "cell_type": "code",
   "execution_count": 56,
   "metadata": {},
   "outputs": [
    {
     "data": {
      "text/plain": [
       "['1 15 0 -48 0 1 0 0 0 1 0 0 0 1 3003.dat',\n",
       " '1 15 0 -24 0 1 0 0 0 1 0 0 0 1 3003.dat',\n",
       " '1 15 0 0 0 1 0 0 0 1 0 0 0 1 3003.dat',\n",
       " '1 15 80 0 0 1 0 0 0 1 0 0 0 1 3003.dat',\n",
       " '1 15 80 -24 0 1 0 0 0 1 0 0 0 1 3003.dat']"
      ]
     },
     "execution_count": 56,
     "metadata": {},
     "output_type": "execute_result"
    }
   ],
   "source": [
    "world_ldraw_formatted"
   ]
  },
  {
   "cell_type": "code",
   "execution_count": 57,
   "metadata": {},
   "outputs": [],
   "source": [
    "save_ldr(lego_world.data, 'test_ldr')"
   ]
  },
  {
   "cell_type": "markdown",
   "metadata": {},
   "source": [
    "Using Gym Env\n",
    "\n",
    "The size define the x, y shape of the lego world"
   ]
  },
  {
   "cell_type": "code",
   "execution_count": 58,
   "metadata": {},
   "outputs": [],
   "source": [
    "lego_world_size = 10 \n",
    "lego_env = LegoEnv(lego_world_size)"
   ]
  }
 ],
 "metadata": {
  "kernelspec": {
   "display_name": "Python 3",
   "language": "python",
   "name": "python3"
  },
  "language_info": {
   "codemirror_mode": {
    "name": "ipython",
    "version": 3
   },
   "file_extension": ".py",
   "mimetype": "text/x-python",
   "name": "python",
   "nbconvert_exporter": "python",
   "pygments_lexer": "ipython3",
   "version": "3.8.10"
  }
 },
 "nbformat": 4,
 "nbformat_minor": 2
}
