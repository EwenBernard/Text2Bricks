{
 "cells": [
  {
   "cell_type": "markdown",
   "metadata": {},
   "source": [
    "## Getting started"
   ]
  },
  {
   "cell_type": "code",
   "execution_count": 1,
   "metadata": {},
   "outputs": [],
   "source": [
    "from text2brick.models import Brick, BrickRef, BrickGetterEnum\n",
    "from text2brick.managers import SingleBrickLegoWorldManager\n",
    "from text2brick.utils.WorldDataUtils import format_ldraw, save_ldr\n",
    "from text2brick.gym import LegoEnv, IoUValidityRewardFunc\n",
    "from text2brick.dataset import Dataset\n",
    "from text2brick.utils.ImageUtils import image_upscale, array_to_image"
   ]
  },
  {
   "cell_type": "markdown",
   "metadata": {},
   "source": [
    "A brick type is defined by the object BrickRef defined by a file_id (id of ldraw file), a name, a color (from 0 to 15 - white) and dimension. dimension of a lego brick are defined by a height, width and depth (h, w, d) in lego unit (1u = 1 stud in the lego world)"
   ]
  },
  {
   "cell_type": "code",
   "execution_count": 2,
   "metadata": {},
   "outputs": [],
   "source": [
    "brickref = BrickRef(file_id='3003.dat', name='2x2', color=15, h=1, w=2, d=2)"
   ]
  },
  {
   "cell_type": "markdown",
   "metadata": {},
   "source": [
    "You can define a brick with the Brick object composed of a brick_id, brick type, x, y and z coords."
   ]
  },
  {
   "cell_type": "code",
   "execution_count": 3,
   "metadata": {},
   "outputs": [],
   "source": [
    "brick = Brick(brick_id=4, brick_ref=brickref, x=2, y=0, z=0)"
   ]
  },
  {
   "cell_type": "code",
   "execution_count": 4,
   "metadata": {},
   "outputs": [
    {
     "data": {
      "text/plain": [
       "Brick(brick_id=4, x=2, y=0, z=0, brick_ref=BrickRef(file_id='3003.dat', name='2x2', color=15, h=1, w=2, d=2), connected_to=[])"
      ]
     },
     "execution_count": 4,
     "metadata": {},
     "output_type": "execute_result"
    }
   ],
   "source": [
    "brick"
   ]
  },
  {
   "cell_type": "markdown",
   "metadata": {},
   "source": [
    "You can define a Lego world with a mapping table. Each 1 is 1 lego brick stud."
   ]
  },
  {
   "cell_type": "code",
   "execution_count": 5,
   "metadata": {},
   "outputs": [],
   "source": [
    "mapping_table = [[0, 0, 0, 0, 0, 0],\n",
    "                 [1, 1, 0, 0, 0, 0],\n",
    "                 [1, 1, 0, 0, 0, 0],\n",
    "                 [1, 1, 0, 0, 1, 1]]"
   ]
  },
  {
   "cell_type": "markdown",
   "metadata": {},
   "source": [
    "You can init a lego world by creating a SingleBrickLegoWorldManager (1 type of brick only for the moment)"
   ]
  },
  {
   "cell_type": "code",
   "execution_count": 6,
   "metadata": {},
   "outputs": [
    {
     "name": "stdout",
     "output_type": "stream",
     "text": [
      "Creating brick 0 at (0, 1)\n",
      "Creating brick 1 at (0, 2)\n",
      "Creating brick 2 at (0, 3)\n",
      "Creating brick 3 at (4, 3)\n"
     ]
    }
   ],
   "source": [
    "lego_world = SingleBrickLegoWorldManager(table=mapping_table, brick_ref=brickref)"
   ]
  },
  {
   "cell_type": "code",
   "execution_count": 7,
   "metadata": {},
   "outputs": [
    {
     "name": "stdout",
     "output_type": "stream",
     "text": [
      "Lego World Bricks\n",
      "id: 0 x: 0 | y: 2 | z: 0 | ID: 3003.dat | Name: 2x2 | Color: 15 | h:1 | w:2 | d:2 | Connected to: [1]\n",
      "id: 1 x: 0 | y: 1 | z: 0 | ID: 3003.dat | Name: 2x2 | Color: 15 | h:1 | w:2 | d:2 | Connected to: [0, 2]\n",
      "id: 2 x: 0 | y: 0 | z: 0 | ID: 3003.dat | Name: 2x2 | Color: 15 | h:1 | w:2 | d:2 | Connected to: [1]\n",
      "id: 3 x: 4 | y: 0 | z: 0 | ID: 3003.dat | Name: 2x2 | Color: 15 | h:1 | w:2 | d:2 | Connected to: []\n"
     ]
    }
   ],
   "source": [
    "print(lego_world.data.str_full_infos())"
   ]
  },
  {
   "cell_type": "markdown",
   "metadata": {},
   "source": [
    "You can retrieve a block from world by ID or COORD (x, y, z)"
   ]
  },
  {
   "cell_type": "code",
   "execution_count": 8,
   "metadata": {},
   "outputs": [],
   "source": [
    "brick_1 = lego_world.get_brick(identifier=0, lookup_type=BrickGetterEnum.ID)"
   ]
  },
  {
   "cell_type": "code",
   "execution_count": 9,
   "metadata": {},
   "outputs": [
    {
     "data": {
      "text/plain": [
       "Brick(brick_id=0, x=0, y=2, z=0, brick_ref=BrickRef(file_id='3003.dat', name='2x2', color=15, h=1, w=2, d=2), connected_to=[Brick(brick_id=1, x=0, y=1, z=0, brick_ref=BrickRef(file_id='3003.dat', name='2x2', color=15, h=1, w=2, d=2), connected_to=[Brick(brick_id=0, x=0, y=2, z=0, brick_ref=BrickRef(file_id='3003.dat', name='2x2', color=15, h=1, w=2, d=2), connected_to=[...]), Brick(brick_id=2, x=0, y=0, z=0, brick_ref=BrickRef(file_id='3003.dat', name='2x2', color=15, h=1, w=2, d=2), connected_to=[Brick(brick_id=1, x=0, y=1, z=0, brick_ref=BrickRef(file_id='3003.dat', name='2x2', color=15, h=1, w=2, d=2), connected_to=[...])])])])"
      ]
     },
     "execution_count": 9,
     "metadata": {},
     "output_type": "execute_result"
    }
   ],
   "source": [
    "brick_1"
   ]
  },
  {
   "cell_type": "code",
   "execution_count": 10,
   "metadata": {},
   "outputs": [],
   "source": [
    "brick_2 = lego_world.get_brick(identifier=[0, 2, 0], lookup_type=BrickGetterEnum.COORDS)"
   ]
  },
  {
   "cell_type": "code",
   "execution_count": 11,
   "metadata": {},
   "outputs": [
    {
     "data": {
      "text/plain": [
       "Brick(brick_id=0, x=0, y=2, z=0, brick_ref=BrickRef(file_id='3003.dat', name='2x2', color=15, h=1, w=2, d=2), connected_to=[Brick(brick_id=1, x=0, y=1, z=0, brick_ref=BrickRef(file_id='3003.dat', name='2x2', color=15, h=1, w=2, d=2), connected_to=[Brick(brick_id=0, x=0, y=2, z=0, brick_ref=BrickRef(file_id='3003.dat', name='2x2', color=15, h=1, w=2, d=2), connected_to=[...]), Brick(brick_id=2, x=0, y=0, z=0, brick_ref=BrickRef(file_id='3003.dat', name='2x2', color=15, h=1, w=2, d=2), connected_to=[Brick(brick_id=1, x=0, y=1, z=0, brick_ref=BrickRef(file_id='3003.dat', name='2x2', color=15, h=1, w=2, d=2), connected_to=[...])])])])"
      ]
     },
     "execution_count": 11,
     "metadata": {},
     "output_type": "execute_result"
    }
   ],
   "source": [
    "brick_2"
   ]
  },
  {
   "cell_type": "markdown",
   "metadata": {},
   "source": [
    "Check for valid brick id "
   ]
  },
  {
   "cell_type": "code",
   "execution_count": 12,
   "metadata": {},
   "outputs": [
    {
     "data": {
      "text/plain": [
       "{0, 1, 2, 3}"
      ]
     },
     "execution_count": 12,
     "metadata": {},
     "output_type": "execute_result"
    }
   ],
   "source": [
    "lego_world.data.valid_bricks"
   ]
  },
  {
   "cell_type": "code",
   "execution_count": 13,
   "metadata": {},
   "outputs": [
    {
     "data": {
      "text/plain": [
       "True"
      ]
     },
     "execution_count": 13,
     "metadata": {},
     "output_type": "execute_result"
    }
   ],
   "source": [
    "lego_world.check_brick_validity(brick_1)"
   ]
  },
  {
   "cell_type": "code",
   "execution_count": 14,
   "metadata": {},
   "outputs": [
    {
     "data": {
      "text/plain": [
       "{0, 1, 2, 3}"
      ]
     },
     "execution_count": 14,
     "metadata": {},
     "output_type": "execute_result"
    }
   ],
   "source": [
    "lego_world.data.valid_bricks"
   ]
  },
  {
   "cell_type": "markdown",
   "metadata": {},
   "source": [
    "You can add brick by defining one"
   ]
  },
  {
   "cell_type": "code",
   "execution_count": 15,
   "metadata": {},
   "outputs": [
    {
     "data": {
      "text/plain": [
       "True"
      ]
     },
     "execution_count": 15,
     "metadata": {},
     "output_type": "execute_result"
    }
   ],
   "source": [
    "lego_world.add_brick(brick)"
   ]
  },
  {
   "cell_type": "code",
   "execution_count": 16,
   "metadata": {},
   "outputs": [
    {
     "name": "stdout",
     "output_type": "stream",
     "text": [
      "Lego World Bricks\n",
      "id: 0 x: 0 | y: 2 | z: 0 | ID: 3003.dat | Name: 2x2 | Color: 15 | h:1 | w:2 | d:2 | Connected to: [1]\n",
      "id: 1 x: 0 | y: 1 | z: 0 | ID: 3003.dat | Name: 2x2 | Color: 15 | h:1 | w:2 | d:2 | Connected to: [0, 2]\n",
      "id: 2 x: 0 | y: 0 | z: 0 | ID: 3003.dat | Name: 2x2 | Color: 15 | h:1 | w:2 | d:2 | Connected to: [1]\n",
      "id: 3 x: 4 | y: 0 | z: 0 | ID: 3003.dat | Name: 2x2 | Color: 15 | h:1 | w:2 | d:2 | Connected to: []\n",
      "id: 4 x: 2 | y: 0 | z: 0 | ID: 3003.dat | Name: 2x2 | Color: 15 | h:1 | w:2 | d:2 | Connected to: []\n"
     ]
    }
   ],
   "source": [
    "print(lego_world.data.str_full_infos())"
   ]
  },
  {
   "cell_type": "markdown",
   "metadata": {},
   "source": [
    "or with x, y coords"
   ]
  },
  {
   "cell_type": "code",
   "execution_count": 17,
   "metadata": {},
   "outputs": [
    {
     "data": {
      "text/plain": [
       "True"
      ]
     },
     "execution_count": 17,
     "metadata": {},
     "output_type": "execute_result"
    }
   ],
   "source": [
    "lego_world.add_brick_from_coord(4, 1, brickref)"
   ]
  },
  {
   "cell_type": "code",
   "execution_count": 18,
   "metadata": {},
   "outputs": [
    {
     "name": "stdout",
     "output_type": "stream",
     "text": [
      "Lego World Bricks\n",
      "id: 0 x: 0 | y: 2 | z: 0 | ID: 3003.dat | Name: 2x2 | Color: 15 | h:1 | w:2 | d:2 | Connected to: [1]\n",
      "id: 1 x: 0 | y: 1 | z: 0 | ID: 3003.dat | Name: 2x2 | Color: 15 | h:1 | w:2 | d:2 | Connected to: [0, 2]\n",
      "id: 2 x: 0 | y: 0 | z: 0 | ID: 3003.dat | Name: 2x2 | Color: 15 | h:1 | w:2 | d:2 | Connected to: [1]\n",
      "id: 3 x: 4 | y: 0 | z: 0 | ID: 3003.dat | Name: 2x2 | Color: 15 | h:1 | w:2 | d:2 | Connected to: []\n",
      "id: 4 x: 2 | y: 0 | z: 0 | ID: 3003.dat | Name: 2x2 | Color: 15 | h:1 | w:2 | d:2 | Connected to: []\n",
      "id: 5 x: 4 | y: 1 | z: 0 | ID: 3003.dat | Name: 2x2 | Color: 15 | h:1 | w:2 | d:2 | Connected to: [3]\n"
     ]
    }
   ],
   "source": [
    "print(lego_world.data.str_full_infos())"
   ]
  },
  {
   "cell_type": "code",
   "execution_count": 19,
   "metadata": {},
   "outputs": [
    {
     "data": {
      "text/plain": [
       "{0, 1, 2, 3, 4, 5}"
      ]
     },
     "execution_count": 19,
     "metadata": {},
     "output_type": "execute_result"
    }
   ],
   "source": [
    "lego_world.data.valid_bricks"
   ]
  },
  {
   "cell_type": "code",
   "execution_count": 20,
   "metadata": {},
   "outputs": [
    {
     "name": "stdout",
     "output_type": "stream",
     "text": [
      "Piece Count : 6\n",
      "x: 0 | y: 2 | z: 0\n",
      "x: 0 | y: 1 | z: 0\n",
      "x: 0 | y: 0 | z: 0\n",
      "x: 4 | y: 0 | z: 0\n",
      "x: 2 | y: 0 | z: 0\n",
      "x: 4 | y: 1 | z: 0\n"
     ]
    }
   ],
   "source": [
    "print(lego_world.data)"
   ]
  },
  {
   "cell_type": "markdown",
   "metadata": {},
   "source": [
    "You can convert back the world to mapping table"
   ]
  },
  {
   "cell_type": "code",
   "execution_count": 21,
   "metadata": {},
   "outputs": [
    {
     "data": {
      "text/plain": [
       "array([[0, 0, 0, 0, 0, 0],\n",
       "       [1, 1, 0, 0, 0, 0],\n",
       "       [1, 1, 0, 0, 1, 1],\n",
       "       [1, 1, 1, 1, 1, 1]], dtype=uint8)"
      ]
     },
     "execution_count": 21,
     "metadata": {},
     "output_type": "execute_result"
    }
   ],
   "source": [
    "lego_world.recreate_table_from_world()"
   ]
  },
  {
   "cell_type": "markdown",
   "metadata": {},
   "source": [
    "Remove a brick"
   ]
  },
  {
   "cell_type": "code",
   "execution_count": 22,
   "metadata": {},
   "outputs": [
    {
     "data": {
      "text/plain": [
       "True"
      ]
     },
     "execution_count": 22,
     "metadata": {},
     "output_type": "execute_result"
    }
   ],
   "source": [
    "lego_world.remove_brick(brick)"
   ]
  },
  {
   "cell_type": "code",
   "execution_count": 23,
   "metadata": {},
   "outputs": [
    {
     "name": "stdout",
     "output_type": "stream",
     "text": [
      "Lego World Bricks\n",
      "id: 0 x: 0 | y: 2 | z: 0 | ID: 3003.dat | Name: 2x2 | Color: 15 | h:1 | w:2 | d:2 | Connected to: [1, 1]\n",
      "id: 1 x: 0 | y: 1 | z: 0 | ID: 3003.dat | Name: 2x2 | Color: 15 | h:1 | w:2 | d:2 | Connected to: [0, 2, 0, 2]\n",
      "id: 2 x: 0 | y: 0 | z: 0 | ID: 3003.dat | Name: 2x2 | Color: 15 | h:1 | w:2 | d:2 | Connected to: [1, 1]\n",
      "id: 3 x: 4 | y: 0 | z: 0 | ID: 3003.dat | Name: 2x2 | Color: 15 | h:1 | w:2 | d:2 | Connected to: [5]\n",
      "id: 5 x: 4 | y: 1 | z: 0 | ID: 3003.dat | Name: 2x2 | Color: 15 | h:1 | w:2 | d:2 | Connected to: [3, 3]\n"
     ]
    }
   ],
   "source": [
    "print(lego_world.data.str_full_infos())"
   ]
  },
  {
   "cell_type": "code",
   "execution_count": 24,
   "metadata": {},
   "outputs": [
    {
     "data": {
      "text/plain": [
       "array([[0, 0, 0, 0, 0, 0],\n",
       "       [1, 1, 0, 0, 0, 0],\n",
       "       [1, 1, 0, 0, 1, 1],\n",
       "       [1, 1, 0, 0, 1, 1]], dtype=uint8)"
      ]
     },
     "execution_count": 24,
     "metadata": {},
     "output_type": "execute_result"
    }
   ],
   "source": [
    "lego_world.recreate_table_from_world()"
   ]
  },
  {
   "cell_type": "markdown",
   "metadata": {},
   "source": [
    "Save to Ldraw Format"
   ]
  },
  {
   "cell_type": "code",
   "execution_count": 25,
   "metadata": {},
   "outputs": [],
   "source": [
    "world_ldraw_formatted = format_ldraw(lego_world.data)"
   ]
  },
  {
   "cell_type": "code",
   "execution_count": 26,
   "metadata": {},
   "outputs": [
    {
     "data": {
      "text/plain": [
       "['1 15 0 -48 0 1 0 0 0 1 0 0 0 1 3003.dat',\n",
       " '1 15 0 -24 0 1 0 0 0 1 0 0 0 1 3003.dat',\n",
       " '1 15 0 0 0 1 0 0 0 1 0 0 0 1 3003.dat',\n",
       " '1 15 80 0 0 1 0 0 0 1 0 0 0 1 3003.dat',\n",
       " '1 15 80 -24 0 1 0 0 0 1 0 0 0 1 3003.dat']"
      ]
     },
     "execution_count": 26,
     "metadata": {},
     "output_type": "execute_result"
    }
   ],
   "source": [
    "world_ldraw_formatted"
   ]
  },
  {
   "cell_type": "code",
   "execution_count": 27,
   "metadata": {},
   "outputs": [],
   "source": [
    "save_ldr(lego_world.data, 'test_ldr')"
   ]
  },
  {
   "cell_type": "markdown",
   "metadata": {},
   "source": [
    "DATASET"
   ]
  },
  {
   "cell_type": "markdown",
   "metadata": {},
   "source": [
    "Load the MNIST dataset"
   ]
  },
  {
   "cell_type": "code",
   "execution_count": 28,
   "metadata": {},
   "outputs": [],
   "source": [
    "dataset = Dataset()"
   ]
  },
  {
   "cell_type": "markdown",
   "metadata": {},
   "source": [
    "Get samples from the dataset"
   ]
  },
  {
   "cell_type": "markdown",
   "metadata": {},
   "source": [
    "Random sample"
   ]
  },
  {
   "cell_type": "code",
   "execution_count": 29,
   "metadata": {},
   "outputs": [
    {
     "name": "stdout",
     "output_type": "stream",
     "text": [
      "0 63774\n"
     ]
    },
    {
     "data": {
      "image/jpeg": "[encoded data removed]",
      "image/png": "[encoded data removed]",
      "text/plain": [
       "<PIL.Image.Image image mode=L size=56x56>"
      ]
     },
     "execution_count": 29,
     "metadata": {},
     "output_type": "execute_result"
    }
   ],
   "source": [
    "array1, image1, label1, index1 = dataset.sample()\n",
    "print(label1, index1)\n",
    "image_upscaled = image_upscale(image1, 2)\n",
    "image_upscaled"
   ]
  },
  {
   "cell_type": "markdown",
   "metadata": {},
   "source": [
    "Sample from scpecific index"
   ]
  },
  {
   "cell_type": "code",
   "execution_count": 30,
   "metadata": {},
   "outputs": [
    {
     "name": "stdout",
     "output_type": "stream",
     "text": [
      "7 301\n"
     ]
    },
    {
     "data": {
      "image/jpeg": "[encoded data removed]",
      "image/png": "[encoded data removed]",
      "text/plain": [
       "<PIL.Image.Image image mode=L size=56x56>"
      ]
     },
     "execution_count": 30,
     "metadata": {},
     "output_type": "execute_result"
    }
   ],
   "source": [
    "array, image, label, index = dataset.sample(sample_index=301)\n",
    "print(label, index)\n",
    "image_upscaled = image_upscale(image, 2)\n",
    "image_upscaled"
   ]
  },
  {
   "cell_type": "markdown",
   "metadata": {},
   "source": [
    "Remove rows from the top of the sample image"
   ]
  },
  {
   "cell_type": "code",
   "execution_count": 31,
   "metadata": {},
   "outputs": [
    {
     "name": "stdout",
     "output_type": "stream",
     "text": [
      "7 301\n"
     ]
    },
    {
     "data": {
      "image/jpeg": "[encoded data removed]",
      "image/png": "[encoded data removed]",
      "text/plain": [
       "<PIL.Image.Image image mode=L size=56x56>"
      ]
     },
     "execution_count": 31,
     "metadata": {},
     "output_type": "execute_result"
    }
   ],
   "source": [
    "array, image, label, index = dataset.sample(sample_index=index, n_rows=15)\n",
    "print(label, index)\n",
    "image_upscaled = image_upscale(image, 2)\n",
    "image_upscaled"
   ]
  },
  {
   "cell_type": "markdown",
   "metadata": {},
   "source": [
    "Remove columns from the left side of the sample image"
   ]
  },
  {
   "cell_type": "code",
   "execution_count": 32,
   "metadata": {},
   "outputs": [
    {
     "name": "stdout",
     "output_type": "stream",
     "text": [
      "7 301\n"
     ]
    },
    {
     "data": {
      "image/jpeg": "[encoded data removed]",
      "image/png": "[encoded data removed]",
      "text/plain": [
       "<PIL.Image.Image image mode=L size=56x56>"
      ]
     },
     "execution_count": 32,
     "metadata": {},
     "output_type": "execute_result"
    }
   ],
   "source": [
    "array, image, label, index = dataset.sample(sample_index=index, n_cols=16)\n",
    "print(label, index)\n",
    "image_upscaled = image_upscale(image, 2)\n",
    "image_upscaled"
   ]
  },
  {
   "cell_type": "markdown",
   "metadata": {},
   "source": [
    "Using Gym Env\n",
    "\n",
    "The size define the x, y shape of the lego world. The default reward func based the IoU between the target and the environnement and the brick validity (reward_func optional parameter)\n",
    "\n",
    "It includes a LegoWorld"
   ]
  },
  {
   "cell_type": "code",
   "execution_count": 33,
   "metadata": {},
   "outputs": [
    {
     "name": "stdout",
     "output_type": "stream",
     "text": [
      "LegoEnv(Environment Size: 28x28, \n",
      "Observation Space: MultiBinary((28, 28)), \n",
      "Action Space: MultiDiscrete([28 27]), \n",
      "Reward Function: Reward function : 1.0*IoU + 1.0*validity)\n"
     ]
    }
   ],
   "source": [
    "lego_env = LegoEnv(array.shape[0])\n",
    "print(lego_env)"
   ]
  },
  {
   "cell_type": "markdown",
   "metadata": {},
   "source": [
    "Set reward function"
   ]
  },
  {
   "cell_type": "code",
   "execution_count": 34,
   "metadata": {},
   "outputs": [
    {
     "name": "stdout",
     "output_type": "stream",
     "text": [
      "LegoEnv(Environment Size: 28x28, \n",
      "Observation Space: MultiBinary((28, 28)), \n",
      "Action Space: MultiDiscrete([28 27]), \n",
      "Reward Function: Reward function : 0.5*IoU + 1.0*validity)\n"
     ]
    }
   ],
   "source": [
    "new_reward_function = IoUValidityRewardFunc(IoU_weight=0.5, validity_weight=1.0)\n",
    "lego_env.set_reward_function(new_reward_function)\n",
    "print(lego_env)"
   ]
  },
  {
   "cell_type": "markdown",
   "metadata": {},
   "source": [
    "Execute an action/place a brick in the envirronement\n",
    "action = (x, y)\n",
    "Take the target image as parameter for the IoU"
   ]
  },
  {
   "cell_type": "code",
   "execution_count": 35,
   "metadata": {},
   "outputs": [
    {
     "name": "stdout",
     "output_type": "stream",
     "text": [
      "{'reward': 1.0, 'steps': 1, 'brick': Brick(brick_id=0, x=1, y=0, z=0, brick_ref=BrickRef(file_id='3003.dat', name='2x2', color=15, h=1, w=2, d=2), connected_to=[])}\n",
      "{'reward': 1.0, 'steps': 2, 'brick': Brick(brick_id=1, x=2, y=1, z=0, brick_ref=BrickRef(file_id='3003.dat', name='2x2', color=15, h=1, w=2, d=2), connected_to=[Brick(brick_id=0, x=1, y=0, z=0, brick_ref=BrickRef(file_id='3003.dat', name='2x2', color=15, h=1, w=2, d=2), connected_to=[])])}\n",
      "{'reward': 0.0, 'steps': 3, 'brick': None}\n",
      "{'reward': 1.0025510204081634, 'steps': 4, 'brick': Brick(brick_id=2, x=12, y=0, z=0, brick_ref=BrickRef(file_id='3003.dat', name='2x2', color=15, h=1, w=2, d=2), connected_to=[])}\n"
     ]
    },
    {
     "data": {
      "image/jpeg": "[encoded data removed]",
      "image/png": "[encoded data removed]",
      "text/plain": [
       "<PIL.Image.Image image mode=L size=56x56>"
      ]
     },
     "execution_count": 35,
     "metadata": {},
     "output_type": "execute_result"
    }
   ],
   "source": [
    "obs, reward, done, info = lego_env.step((27, 1), target_img=array1)\n",
    "print(info)\n",
    "obs, reward, done, info = lego_env.step((26, 2), target_img=array1)\n",
    "print(info)\n",
    "obs, reward, done, info = lego_env.step((23, 1), target_img=array1) # Not valid\n",
    "print(info)\n",
    "obs, reward, done, info = lego_env.step((27, 12), target_img=array1)\n",
    "print(info)\n",
    "obs = array_to_image(obs)\n",
    "obs_upscaled = image_upscale(obs, 2)\n",
    "obs_upscaled"
   ]
  },
  {
   "cell_type": "markdown",
   "metadata": {},
   "source": [
    "Reset the environnement (initial_state can be set)"
   ]
  },
  {
   "cell_type": "code",
   "execution_count": 36,
   "metadata": {},
   "outputs": [
    {
     "data": {
      "image/jpeg": "[encoded data removed]",
      "image/png": "[encoded data removed]",
      "text/plain": [
       "<PIL.Image.Image image mode=L size=56x56>"
      ]
     },
     "execution_count": 36,
     "metadata": {},
     "output_type": "execute_result"
    }
   ],
   "source": [
    "lego_env.reset()\n",
    "obs = array_to_image(lego_env.get_obs())\n",
    "obs_upscaled = image_upscale(obs, 2)\n",
    "obs_upscaled"
   ]
  }
 ],
 "metadata": {
  "kernelspec": {
   "display_name": "Python 3",
   "language": "python",
   "name": "python3"
  },
  "language_info": {
   "codemirror_mode": {
    "name": "ipython",
    "version": 3
   },
   "file_extension": ".py",
   "mimetype": "text/x-python",
   "name": "python",
   "nbconvert_exporter": "python",
   "pygments_lexer": "ipython3",
   "version": "3.10.11"
  }
 },
 "nbformat": 4,
 "nbformat_minor": 2
}
