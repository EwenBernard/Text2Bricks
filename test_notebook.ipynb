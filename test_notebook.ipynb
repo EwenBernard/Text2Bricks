{
 "cells": [
  {
   "cell_type": "code",
   "execution_count": 1,
   "metadata": {},
   "outputs": [],
   "source": [
    "from text2brick.models import GraphLegoWorldData\n",
    "import numpy as np\n",
    "#import torch\n",
    "#from text2brick.dataset.dataset import MNISTDataset\n",
    "#from text2brick.gym import LegoEnv\n"
   ]
  },
  {
   "cell_type": "code",
   "execution_count": 8,
   "metadata": {},
   "outputs": [],
   "source": [
    "table = np.array([[0, 1, 1, 0],\n",
    "                  [1, 1, 1, 1],\n",
    "                  [1, 1, 1, 0],\n",
    "                  [1, 1, 1, 1],\n",
    "                  [0, 1, 1, 0],\n",
    "                  [1, 1, 1, 1],])"
   ]
  },
  {
   "cell_type": "code",
   "execution_count": 12,
   "metadata": {},
   "outputs": [
    {
     "data": {
      "text/plain": [
       "{'x': 2, 'y': 4, 'validity': True}"
      ]
     },
     "execution_count": 12,
     "metadata": {},
     "output_type": "execute_result"
    }
   ],
   "source": [
    "lego_world = GraphLegoWorldData(table)\n",
    "lego_world.get_brick_at_edge()"
   ]
  },
  {
   "cell_type": "code",
   "execution_count": 13,
   "metadata": {},
   "outputs": [
    {
     "name": "stdout",
     "output_type": "stream",
     "text": [
      "[[0 1 1 0]\n",
      " [1 1 1 1]\n",
      " [1 1 0 0]\n",
      " [1 1 1 1]\n",
      " [0 1 1 0]\n",
      " [1 1 1 1]]\n",
      "[[0 1 1 0]\n",
      " [1 1 0 0]\n",
      " [1 1 0 0]\n",
      " [1 1 1 1]\n",
      " [0 1 1 0]\n",
      " [1 1 1 1]]\n",
      "[[0 0 0 0]\n",
      " [1 1 0 0]\n",
      " [1 1 0 0]\n",
      " [1 1 1 1]\n",
      " [0 1 1 0]\n",
      " [1 1 1 1]]\n",
      "[[0 0 0 0]\n",
      " [0 0 0 0]\n",
      " [1 1 0 0]\n",
      " [1 1 1 1]\n",
      " [0 1 1 0]\n",
      " [1 1 1 1]]\n",
      "[[0 0 0 0]\n",
      " [0 0 0 0]\n",
      " [0 0 0 0]\n",
      " [1 1 1 1]\n",
      " [0 1 1 0]\n",
      " [1 1 1 1]]\n",
      "[[0 0 0 0]\n",
      " [0 0 0 0]\n",
      " [0 0 0 0]\n",
      " [0 0 1 1]\n",
      " [0 1 1 0]\n",
      " [1 1 1 1]]\n",
      "[[0 0 0 0]\n",
      " [0 0 0 0]\n",
      " [0 0 0 0]\n",
      " [0 0 0 0]\n",
      " [0 1 1 0]\n",
      " [1 1 1 1]]\n",
      "[[0 0 0 0]\n",
      " [0 0 0 0]\n",
      " [0 0 0 0]\n",
      " [0 0 0 0]\n",
      " [0 0 0 0]\n",
      " [1 1 1 1]]\n",
      "[[0 0 0 0]\n",
      " [0 0 0 0]\n",
      " [0 0 0 0]\n",
      " [0 0 0 0]\n",
      " [0 0 0 0]\n",
      " [0 0 1 1]]\n",
      "[[0 0 0 0]\n",
      " [0 0 0 0]\n",
      " [0 0 0 0]\n",
      " [0 0 0 0]\n",
      " [0 0 0 0]\n",
      " [0 0 0 0]]\n"
     ]
    }
   ],
   "source": [
    "print(lego_world.graph_to_table())\n",
    "for i in range(lego_world.nodes_num()):\n",
    "    brick_removal = lego_world.get_brick_at_edge()\n",
    "    lego_world.remove_brick(brick_removal.get('x'), brick_removal.get('y'))\n",
    "    print(lego_world.graph_to_table())"
   ]
  },
  {
   "cell_type": "code",
   "execution_count": 7,
   "metadata": {},
   "outputs": [
    {
     "name": "stdout",
     "output_type": "stream",
     "text": [
      "Number of nodes: 2\n",
      "Number of edges: 0\n",
      "Node 0: {'x': 0, 'y': 0, 'validity': True}\n",
      "Node 1: {'x': 2, 'y': 0, 'validity': True}\n",
      "None\n"
     ]
    }
   ],
   "source": [
    "print(lego_world.print_graph())"
   ]
  },
  {
   "cell_type": "code",
   "execution_count": 3,
   "metadata": {},
   "outputs": [],
   "source": [
    "# dataset = MNISTDataset()\n",
    "# array, _, _, _ = dataset.sample(sample_index=1)"
   ]
  },
  {
   "cell_type": "code",
   "execution_count": 4,
   "metadata": {},
   "outputs": [],
   "source": [
    "# env = LegoEnv(array.shape[0])\n",
    "# print(env)"
   ]
  },
  {
   "cell_type": "code",
   "execution_count": 5,
   "metadata": {},
   "outputs": [],
   "source": [
    "# obs, reward, done, info = env.step((0, 14), array) # Valid\n",
    "# obs, reward, done, info = env.step((0, 14), array) # Overlap\n",
    "# obs, reward, done, info = env.step((0, 27), array) # Half of the brick is out of the world \n",
    "# obs, reward, done, info = env.step((3, 14), array) # Invalid\n",
    "# obs, reward, done, info = env.step((1, 14), array) # Valid\n",
    "# print(obs)"
   ]
  },
  {
   "cell_type": "code",
   "execution_count": 6,
   "metadata": {},
   "outputs": [
    {
     "name": "stdout",
     "output_type": "stream",
     "text": [
      "Outside: Brick at (3, 0) is out of the world\n",
      "Number of nodes: 4\n",
      "Number of edges: 3\n",
      "Node 0: {'x': 0, 'y': 0, 'validity': True}\n",
      "Node 1: {'x': 1, 'y': 1, 'validity': True}\n",
      "Node 2: {'x': 0, 'y': 2, 'validity': True}\n",
      "Node 3: {'x': 2, 'y': 0, 'validity': True}\n",
      "Edge (0, 1): {}\n",
      "Edge (1, 2): {}\n",
      "Edge (1, 3): {}\n"
     ]
    }
   ],
   "source": [
    "graph = GraphLegoWorldData(img=table)\n",
    "graph.add_brick(3, 0)\n",
    "graph.add_brick(2, 0)\n",
    "graph.print_graph()\n",
    "graph.save_as_ldraw()"
   ]
  },
  {
   "cell_type": "code",
   "execution_count": 13,
   "metadata": {},
   "outputs": [
    {
     "name": "stdout",
     "output_type": "stream",
     "text": [
      "0 {'x': 0, 'y': 0, 'validity': True}\n",
      "1 {'x': 1, 'y': 1, 'validity': True}\n",
      "2 {'x': 0, 'y': 2, 'validity': True}\n",
      "3 {'x': 2, 'y': 0, 'validity': True}\n"
     ]
    }
   ],
   "source": [
    "data = graph.get_nodes()\n",
    "\n",
    "for node, data in data: \n",
    "    print(node, data)"
   ]
  },
  {
   "cell_type": "code",
   "execution_count": null,
   "metadata": {},
   "outputs": [],
   "source": []
  },
  {
   "cell_type": "code",
   "execution_count": 8,
   "metadata": {},
   "outputs": [
    {
     "name": "stdout",
     "output_type": "stream",
     "text": [
      "Node 0: {'x': 0, 'y': 0, 'validity': True}\n",
      "Node 1: {'x': 1, 'y': 1, 'validity': True}\n",
      "Node 2: {'x': 0, 'y': 2, 'validity': True}\n",
      "Edge (0, 1):\n",
      "Edge (1, 2):\n"
     ]
    },
    {
     "data": {
      "text/plain": [
       "<networkx.classes.graph.Graph at 0x2e886e48c70>"
      ]
     },
     "execution_count": 8,
     "metadata": {},
     "output_type": "execute_result"
    }
   ],
   "source": [
    "sub = graph.subgraph(3)\n",
    "for node, data in sub.nodes(data=True):\n",
    "    print(f\"Node {node}: {data}\")\n",
    "for u, v,  in sub.edges():\n",
    "    print(f\"Edge ({u}, {v}):\")\n",
    "\n",
    "sub"
   ]
  },
  {
   "cell_type": "code",
   "execution_count": 9,
   "metadata": {},
   "outputs": [
    {
     "data": {
      "text/plain": [
       "array([[0, 0, 0, 0],\n",
       "       [1, 1, 0, 0],\n",
       "       [0, 1, 1, 0],\n",
       "       [1, 1, 1, 1]])"
      ]
     },
     "execution_count": 9,
     "metadata": {},
     "output_type": "execute_result"
    }
   ],
   "source": [
    "graph.graph_to_table()"
   ]
  },
  {
   "cell_type": "code",
   "execution_count": 10,
   "metadata": {},
   "outputs": [
    {
     "data": {
      "text/plain": [
       "tensor([[0, 1, 1],\n",
       "        [1, 2, 3]])"
      ]
     },
     "execution_count": 10,
     "metadata": {},
     "output_type": "execute_result"
    }
   ],
   "source": [
    "data = graph.graph_to_torch()\n",
    "c = torch.stack([data.x, data.y])\n",
    "data.edge_index"
   ]
  },
  {
   "cell_type": "code",
   "execution_count": 11,
   "metadata": {},
   "outputs": [],
   "source": [
    "from torch.utils.data import DataLoader\n",
    "from text2brick.dataset import CustomDatasetGraph\n",
    "\n",
    "dataset = CustomDatasetGraph()\n"
   ]
  },
  {
   "cell_type": "code",
   "execution_count": 12,
   "metadata": {},
   "outputs": [
    {
     "name": "stdout",
     "output_type": "stream",
     "text": [
      "Sample 1:\n",
      "Node Features (x): tensor([[[ 5,  7,  5,  7,  5,  7,  9,  6,  8, 10,  6,  8, 10,  8, 10, 12,  9,\n",
      "          11, 10, 12, 14, 10, 12, 14, 11, 13, 15, 12, 14, 16, 14, 16, 14, 16,\n",
      "          15, 17, 19, 15, 17, 19, 16, 18, 20, 16, 18, 20, 16, 18, 20, 19],\n",
      "         [ 0,  0,  1,  1,  2,  2,  2,  3,  3,  3,  4,  4,  4,  5,  5,  5,  6,\n",
      "           6,  7,  7,  7,  8,  8,  8,  9,  9,  9, 10, 10, 10, 11, 11, 12, 12,\n",
      "          13, 13, 13, 14, 14, 14, 15, 15, 15, 16, 16, 16, 17, 17, 17, 18]]])\n",
      "Edge Index: tensor([[[ 0,  1,  2,  3,  4,  5,  5,  6,  6,  7,  8,  9, 11, 12, 13, 14, 14,\n",
      "          15, 16, 17, 17, 18, 19, 20, 21, 22, 22, 23, 23, 24, 25, 25, 26, 26,\n",
      "          28, 29, 30, 31, 32, 33, 33, 34, 35, 36, 37, 38, 38, 39, 39, 40, 41,\n",
      "          42, 43, 44, 45, 47, 48],\n",
      "         [ 2,  3,  4,  5,  7,  7,  8,  8,  9, 10, 11, 12, 13, 14, 16, 16, 17,\n",
      "          17, 18, 18, 19, 21, 22, 23, 24, 24, 25, 25, 26, 27, 27, 28, 28, 29,\n",
      "          30, 31, 32, 33, 34, 34, 35, 37, 38, 39, 40, 40, 41, 41, 42, 43, 44,\n",
      "          45, 46, 47, 48, 49, 49]]])\n",
      "Next Node: tensor([[21, 18]], dtype=torch.int32)\n",
      "------------------------------\n",
      "Sample 2:\n",
      "Node Features (x): tensor([[[ 9,  9, 11,  9],\n",
      "         [ 0,  1,  1,  2]]])\n",
      "Edge Index: tensor([[[0, 1],\n",
      "         [1, 3]]])\n",
      "Next Node: tensor([[11,  2]], dtype=torch.int32)\n",
      "------------------------------\n"
     ]
    }
   ],
   "source": [
    "train_data = DataLoader(dataset, batch_size=1, shuffle=True)\n",
    "\n",
    "for i in range(2):\n",
    "    x, edge_index, next_node = next(iter(train_data))\n",
    "    print(f\"Sample {i + 1}:\")\n",
    "    print(f\"Node Features (x): {x}\")\n",
    "    print(f\"Edge Index: {edge_index}\")\n",
    "    print(f\"Next Node: {next_node}\")\n",
    "    print(\"-\" * 30)"
   ]
  },
  {
   "cell_type": "code",
   "execution_count": 1,
   "metadata": {},
   "outputs": [],
   "source": [
    "from text2brick.gym import Text2Brick_v1\n",
    "import torch\n",
    "import numpy as np\n",
    "from PIL import Image\n",
    "from torchsummary import summary\n",
    "from text2brick.gym import Text2Brick_v1, BrickPlacementGNN, CNN, SNN, PositionHead2D, MLP\n",
    "\n",
    "image_target = np.random.rand(3, 224, 224)\n",
    "image_environment = np.random.rand(3, 224, 224)\n",
    "\n",
    "def numpy_to_pil(image_np):\n",
    "    image_np = (image_np * 255).astype(np.uint8)\n",
    "    image_np = image_np.transpose(1, 2, 0)\n",
    "    return Image.fromarray(image_np)\n",
    "\n",
    "image_target_pil = numpy_to_pil(image_target)\n",
    "image_environment_pil = numpy_to_pil(image_environment)\n",
    "\n",
    "# image_target_pil.show()\n",
    "# image_environment_pil.show()"
   ]
  },
  {
   "cell_type": "code",
   "execution_count": 2,
   "metadata": {},
   "outputs": [],
   "source": [
    "node_features = torch.randn(10, 2)  # 10 nodes with 2 features each\n",
    "edge_index = torch.tensor([[0, 1, 2], [1, 2, 3]])  # Example edge connections\n",
    "\n",
    "# Initialize the model\n",
    "#model = Text2Brick_v1(image_target=image_target_pil)"
   ]
  },
  {
   "cell_type": "code",
   "execution_count": 3,
   "metadata": {},
   "outputs": [
    {
     "data": {
      "text/plain": [
       "torch.Size([1, 64])"
      ]
     },
     "execution_count": 3,
     "metadata": {},
     "output_type": "execute_result"
    }
   ],
   "source": [
    "gnn = BrickPlacementGNN()\n",
    "gnn_result = gnn.forward(node_features, edge_index)\n",
    "gnn_result.shape"
   ]
  },
  {
   "cell_type": "code",
   "execution_count": 4,
   "metadata": {},
   "outputs": [
    {
     "name": "stderr",
     "output_type": "stream",
     "text": [
      "Using cache found in C:\\Users\\gourd/.cache\\torch\\hub\\pytorch_vision_v0.10.0\n"
     ]
    },
    {
     "data": {
      "text/plain": [
       "torch.Size([1, 13, 13])"
      ]
     },
     "execution_count": 4,
     "metadata": {},
     "output_type": "execute_result"
    }
   ],
   "source": [
    "snn = SNN(image_target=image_target_pil)\n",
    "snn_result = snn.forward(image_environment_pil)\n",
    "snn_result.shape"
   ]
  },
  {
   "cell_type": "code",
   "execution_count": 5,
   "metadata": {},
   "outputs": [],
   "source": [
    "mlp = MLP((1, 13, 13), (1, 64))"
   ]
  },
  {
   "cell_type": "code",
   "execution_count": 6,
   "metadata": {},
   "outputs": [
    {
     "name": "stdout",
     "output_type": "stream",
     "text": [
      "torch.Size([1, 169]) torch.Size([1, 64]) tensor([[1.]])\n"
     ]
    }
   ],
   "source": [
    "reward_score = 1.0\n",
    "reward = torch.tensor([reward_score], dtype=torch.float32).unsqueeze(1)\n",
    "mlp_output = mlp.forward(snn_result, gnn_result, reward)"
   ]
  },
  {
   "cell_type": "code",
   "execution_count": 7,
   "metadata": {},
   "outputs": [
    {
     "data": {
      "text/plain": [
       "torch.Size([1, 16])"
      ]
     },
     "execution_count": 7,
     "metadata": {},
     "output_type": "execute_result"
    }
   ],
   "source": [
    "mlp_output.shape "
   ]
  },
  {
   "cell_type": "code",
   "execution_count": 8,
   "metadata": {},
   "outputs": [],
   "source": [
    "head = PositionHead2D(mlp_output_dim=(1, 16))"
   ]
  },
  {
   "cell_type": "code",
   "execution_count": 9,
   "metadata": {},
   "outputs": [
    {
     "data": {
      "text/plain": [
       "tensor([[0, 2]])"
      ]
     },
     "execution_count": 9,
     "metadata": {},
     "output_type": "execute_result"
    }
   ],
   "source": [
    "head.forward(mlp_output)"
   ]
  },
  {
   "cell_type": "code",
   "execution_count": 10,
   "metadata": {},
   "outputs": [
    {
     "name": "stderr",
     "output_type": "stream",
     "text": [
      "Using cache found in C:\\Users\\gourd/.cache\\torch\\hub\\pytorch_vision_v0.10.0\n"
     ]
    }
   ],
   "source": [
    "full_model = Text2Brick_v1(image_target=image_target_pil)"
   ]
  },
  {
   "cell_type": "code",
   "execution_count": 11,
   "metadata": {},
   "outputs": [
    {
     "name": "stdout",
     "output_type": "stream",
     "text": [
      "torch.Size([1, 169]) torch.Size([1, 64]) tensor([[1.]])\n"
     ]
    },
    {
     "data": {
      "text/plain": [
       "tensor([[2, 5]])"
      ]
     },
     "execution_count": 11,
     "metadata": {},
     "output_type": "execute_result"
    }
   ],
   "source": [
    "full_model.forward(image_environment_pil, node_features, edge_index, reward)"
   ]
  },
  {
   "cell_type": "code",
   "execution_count": 5,
   "metadata": {},
   "outputs": [],
   "source": [
    "from text2brick.dataset import CustomDatasetGraph\n",
    "\n",
    "dataset = CustomDatasetGraph()"
   ]
  },
  {
   "cell_type": "code",
   "execution_count": null,
   "metadata": {},
   "outputs": [],
   "source": []
  },
  {
   "cell_type": "code",
   "execution_count": 14,
   "metadata": {},
   "outputs": [
    {
     "data": {
      "text/plain": [
       "(tensor([[ 9, 11,  9, 11, 10, 12, 11, 13, 11, 13],\n",
       "         [ 0,  0,  1,  1,  2,  2,  3,  3,  4,  4]]),\n",
       " tensor([[0, 1, 2, 3, 3, 4, 5, 5, 6, 7],\n",
       "         [2, 3, 4, 4, 5, 6, 6, 7, 8, 9]]),\n",
       " tensor([12,  5], dtype=torch.int32))"
      ]
     },
     "execution_count": 14,
     "metadata": {},
     "output_type": "execute_result"
    }
   ],
   "source": [
    "dataset.__getitem__(0)"
   ]
  },
  {
   "cell_type": "code",
   "execution_count": 15,
   "metadata": {},
   "outputs": [
    {
     "data": {
      "text/plain": [
       "1"
      ]
     },
     "execution_count": 15,
     "metadata": {},
     "output_type": "execute_result"
    }
   ],
   "source": [
    "dataset.__len__()"
   ]
  },
  {
   "cell_type": "code",
   "execution_count": 1,
   "metadata": {},
   "outputs": [],
   "source": [
    "from text2brick.dataset import MNISTDataset\n",
    "from text2brick.models import GraphLegoWorldData\n",
    "from text2brick.utils.ImageUtils import array_to_image\n",
    "mnist = MNISTDataset()"
   ]
  },
  {
   "cell_type": "code",
   "execution_count": 2,
   "metadata": {},
   "outputs": [],
   "source": [
    "idx = 0\n",
    "array, _, _, _ = mnist.sample(sample_index=idx)\n",
    "lego_world = GraphLegoWorldData(array)"
   ]
  },
  {
   "cell_type": "code",
   "execution_count": 3,
   "metadata": {},
   "outputs": [
    {
     "ename": "TypeError",
     "evalue": "'int' object is not subscriptable",
     "output_type": "error",
     "traceback": [
      "\u001b[1;31m---------------------------------------------------------------------------\u001b[0m",
      "\u001b[1;31mTypeError\u001b[0m                                 Traceback (most recent call last)",
      "Cell \u001b[1;32mIn[3], line 1\u001b[0m\n\u001b[1;32m----> 1\u001b[0m \u001b[43mlego_world\u001b[49m\u001b[38;5;241;43m.\u001b[39;49m\u001b[43mget_brick_at_edge\u001b[49m\u001b[43m(\u001b[49m\u001b[43m)\u001b[49m\n",
      "File \u001b[1;32mc:\\Users\\ebern\\Documents\\GitHub\\Text2Bricks\\text2brick\\models\\GraphWorldData.py:93\u001b[0m, in \u001b[0;36mGraphLegoWorldData.get_brick_at_edge\u001b[1;34m(self)\u001b[0m\n\u001b[0;32m     91\u001b[0m edge_bricks \u001b[38;5;241m=\u001b[39m [node \u001b[38;5;28;01mfor\u001b[39;00m node \u001b[38;5;129;01min\u001b[39;00m \u001b[38;5;28mself\u001b[39m\u001b[38;5;241m.\u001b[39mgraph\u001b[38;5;241m.\u001b[39mnodes \u001b[38;5;28;01mif\u001b[39;00m \u001b[38;5;28mself\u001b[39m\u001b[38;5;241m.\u001b[39mgraph\u001b[38;5;241m.\u001b[39mdegree[node] \u001b[38;5;241m==\u001b[39m \u001b[38;5;241m1\u001b[39m]\n\u001b[0;32m     92\u001b[0m \u001b[38;5;28;01mif\u001b[39;00m edge_bricks:\n\u001b[1;32m---> 93\u001b[0m     \u001b[38;5;28;01mreturn\u001b[39;00m \u001b[38;5;28;43mmax\u001b[39;49m\u001b[43m(\u001b[49m\u001b[43medge_bricks\u001b[49m\u001b[43m,\u001b[49m\u001b[43m \u001b[49m\u001b[43mkey\u001b[49m\u001b[38;5;241;43m=\u001b[39;49m\u001b[38;5;28;43;01mlambda\u001b[39;49;00m\u001b[43m \u001b[49m\u001b[43mnode\u001b[49m\u001b[43m:\u001b[49m\u001b[43m \u001b[49m\u001b[43mnode\u001b[49m\u001b[43m[\u001b[49m\u001b[38;5;124;43m\"\u001b[39;49m\u001b[38;5;124;43my\u001b[39;49m\u001b[38;5;124;43m\"\u001b[39;49m\u001b[43m]\u001b[49m\u001b[43m)\u001b[49m  \u001b[38;5;66;03m# Highest y-coordinate among edge bricks\u001b[39;00m\n\u001b[0;32m     95\u001b[0m \u001b[38;5;66;03m# If no edge bricks, return the brick with the highest y-coordinate\u001b[39;00m\n\u001b[0;32m     96\u001b[0m \u001b[38;5;28;01mreturn\u001b[39;00m \u001b[38;5;28mmax\u001b[39m(\u001b[38;5;28mself\u001b[39m\u001b[38;5;241m.\u001b[39mgraph\u001b[38;5;241m.\u001b[39mnodes, key\u001b[38;5;241m=\u001b[39m\u001b[38;5;28;01mlambda\u001b[39;00m node: node[\u001b[38;5;124m\"\u001b[39m\u001b[38;5;124my\u001b[39m\u001b[38;5;124m\"\u001b[39m])\n",
      "File \u001b[1;32mc:\\Users\\ebern\\Documents\\GitHub\\Text2Bricks\\text2brick\\models\\GraphWorldData.py:93\u001b[0m, in \u001b[0;36mGraphLegoWorldData.get_brick_at_edge.<locals>.<lambda>\u001b[1;34m(node)\u001b[0m\n\u001b[0;32m     91\u001b[0m edge_bricks \u001b[38;5;241m=\u001b[39m [node \u001b[38;5;28;01mfor\u001b[39;00m node \u001b[38;5;129;01min\u001b[39;00m \u001b[38;5;28mself\u001b[39m\u001b[38;5;241m.\u001b[39mgraph\u001b[38;5;241m.\u001b[39mnodes \u001b[38;5;28;01mif\u001b[39;00m \u001b[38;5;28mself\u001b[39m\u001b[38;5;241m.\u001b[39mgraph\u001b[38;5;241m.\u001b[39mdegree[node] \u001b[38;5;241m==\u001b[39m \u001b[38;5;241m1\u001b[39m]\n\u001b[0;32m     92\u001b[0m \u001b[38;5;28;01mif\u001b[39;00m edge_bricks:\n\u001b[1;32m---> 93\u001b[0m     \u001b[38;5;28;01mreturn\u001b[39;00m \u001b[38;5;28mmax\u001b[39m(edge_bricks, key\u001b[38;5;241m=\u001b[39m\u001b[38;5;28;01mlambda\u001b[39;00m node: \u001b[43mnode\u001b[49m\u001b[43m[\u001b[49m\u001b[38;5;124;43m\"\u001b[39;49m\u001b[38;5;124;43my\u001b[39;49m\u001b[38;5;124;43m\"\u001b[39;49m\u001b[43m]\u001b[49m)  \u001b[38;5;66;03m# Highest y-coordinate among edge bricks\u001b[39;00m\n\u001b[0;32m     95\u001b[0m \u001b[38;5;66;03m# If no edge bricks, return the brick with the highest y-coordinate\u001b[39;00m\n\u001b[0;32m     96\u001b[0m \u001b[38;5;28;01mreturn\u001b[39;00m \u001b[38;5;28mmax\u001b[39m(\u001b[38;5;28mself\u001b[39m\u001b[38;5;241m.\u001b[39mgraph\u001b[38;5;241m.\u001b[39mnodes, key\u001b[38;5;241m=\u001b[39m\u001b[38;5;28;01mlambda\u001b[39;00m node: node[\u001b[38;5;124m\"\u001b[39m\u001b[38;5;124my\u001b[39m\u001b[38;5;124m\"\u001b[39m])\n",
      "\u001b[1;31mTypeError\u001b[0m: 'int' object is not subscriptable"
     ]
    }
   ],
   "source": [
    "lego_world.get_brick_at_edge()"
   ]
  },
  {
   "cell_type": "code",
   "execution_count": null,
   "metadata": {},
   "outputs": [
    {
     "ename": "AttributeError",
     "evalue": "'GraphLegoWorldData' object has no attribute 'get_brick_at_edge'",
     "output_type": "error",
     "traceback": [
      "\u001b[1;31m---------------------------------------------------------------------------\u001b[0m",
      "\u001b[1;31mAttributeError\u001b[0m                            Traceback (most recent call last)",
      "Cell \u001b[1;32mIn[43], line 7\u001b[0m\n\u001b[0;32m      5\u001b[0m lego_world_ref \u001b[38;5;241m=\u001b[39m GraphLegoWorldData(array)\n\u001b[0;32m      6\u001b[0m \u001b[38;5;66;03m#retrieve the brick at the edge or y the highest\u001b[39;00m\n\u001b[1;32m----> 7\u001b[0m brick \u001b[38;5;241m=\u001b[39m \u001b[43mlego_world_ref\u001b[49m\u001b[38;5;241;43m.\u001b[39;49m\u001b[43mget_brick_at_edge\u001b[49m() \u001b[38;5;66;03m#to implement\u001b[39;00m\n",
      "\u001b[1;31mAttributeError\u001b[0m: 'GraphLegoWorldData' object has no attribute 'get_brick_at_edge'"
     ]
    }
   ],
   "source": [
    "#load the first image from the mnist dataset\n",
    "idx = 0\n",
    "array, _, _, _ = mnist.sample(sample_index=idx) #already implemented\n",
    "#load the graph from the image\n",
    "lego_world = GraphLegoWorldData(array) #already implemented\n",
    "#retrieve the brick at the edge or y the highest\n",
    "brick = lego_world.get_brick_at_edge() #to implement\n",
    "#remove brick from the graph\n",
    "updated_graph = lego_world.remove_brick(brick) #already implemented\n",
    "#convert the graph to an image\n",
    "current_build_img = updated_graph.graph_to_table() #already implemented"
   ]
  },
  {
   "cell_type": "code",
   "execution_count": null,
   "metadata": {},
   "outputs": [
    {
     "data": {
      "image/jpeg": "[encoded data removed]",
      "image/png": "[encoded data removed]",
      "text/plain": [
       "<PIL.Image.Image image mode=L size=28x28>"
      ]
     },
     "execution_count": 37,
     "metadata": {},
     "output_type": "execute_result"
    }
   ],
   "source": [
    "array_to_image(array)"
   ]
  },
  {
   "cell_type": "code",
   "execution_count": 38,
   "metadata": {},
   "outputs": [
    {
     "data": {
      "text/plain": [
       "array([[0, 0, 0, 0, 0, 0, 0, 0, 0, 0, 0, 0, 0, 0, 0, 0, 0, 0, 0, 0, 0, 0,\n",
       "        0, 0, 0, 0, 0, 0],\n",
       "       [0, 0, 0, 0, 0, 0, 0, 0, 0, 0, 0, 0, 0, 0, 0, 0, 0, 0, 0, 0, 0, 0,\n",
       "        0, 0, 0, 0, 0, 0],\n",
       "       [0, 0, 0, 0, 0, 0, 0, 0, 0, 0, 0, 0, 0, 0, 0, 0, 0, 0, 0, 0, 0, 0,\n",
       "        0, 0, 0, 0, 0, 0],\n",
       "       [0, 0, 0, 0, 0, 0, 0, 0, 0, 0, 0, 0, 0, 0, 0, 0, 0, 0, 0, 0, 0, 0,\n",
       "        0, 0, 0, 0, 0, 0],\n",
       "       [0, 0, 0, 0, 0, 0, 0, 0, 0, 0, 0, 0, 0, 0, 0, 0, 0, 0, 0, 0, 0, 0,\n",
       "        0, 0, 0, 0, 0, 0],\n",
       "       [0, 0, 0, 0, 0, 0, 0, 0, 0, 0, 0, 0, 0, 0, 0, 0, 0, 0, 0, 0, 0, 0,\n",
       "        0, 0, 0, 0, 0, 0],\n",
       "       [0, 0, 0, 0, 0, 0, 0, 0, 0, 0, 0, 0, 0, 0, 0, 0, 0, 0, 0, 0, 0, 0,\n",
       "        0, 0, 0, 0, 0, 0],\n",
       "       [0, 0, 0, 0, 0, 0, 0, 0, 0, 0, 0, 0, 0, 0, 0, 0, 0, 0, 0, 0, 0, 0,\n",
       "        0, 0, 0, 0, 0, 0],\n",
       "       [0, 0, 0, 0, 0, 0, 0, 0, 0, 0, 0, 0, 0, 0, 0, 1, 1, 1, 1, 1, 0, 0,\n",
       "        0, 0, 0, 0, 0, 0],\n",
       "       [0, 0, 0, 0, 0, 0, 0, 0, 0, 0, 0, 0, 0, 0, 1, 1, 1, 1, 1, 1, 0, 0,\n",
       "        0, 0, 0, 0, 0, 0],\n",
       "       [0, 0, 0, 0, 0, 0, 0, 0, 0, 0, 0, 0, 0, 1, 1, 1, 1, 1, 1, 1, 1, 1,\n",
       "        0, 0, 0, 0, 0, 0],\n",
       "       [0, 0, 0, 0, 0, 0, 0, 0, 0, 0, 0, 1, 1, 1, 1, 1, 1, 1, 1, 1, 1, 1,\n",
       "        0, 0, 0, 0, 0, 0],\n",
       "       [0, 0, 0, 0, 0, 0, 0, 0, 0, 0, 0, 1, 1, 1, 1, 1, 1, 1, 1, 1, 1, 1,\n",
       "        0, 0, 0, 0, 0, 0],\n",
       "       [0, 0, 0, 0, 0, 0, 0, 0, 0, 0, 1, 1, 1, 1, 1, 1, 1, 1, 1, 1, 1, 1,\n",
       "        0, 0, 0, 0, 0, 0],\n",
       "       [0, 0, 0, 0, 0, 0, 0, 0, 0, 1, 1, 1, 1, 1, 1, 1, 1, 1, 0, 0, 1, 1,\n",
       "        1, 0, 0, 0, 0, 0],\n",
       "       [0, 0, 0, 0, 0, 0, 0, 0, 1, 1, 1, 1, 1, 1, 0, 0, 0, 0, 0, 0, 1, 1,\n",
       "        1, 0, 0, 0, 0, 0],\n",
       "       [0, 0, 0, 0, 0, 0, 0, 1, 1, 1, 1, 1, 1, 1, 0, 0, 0, 0, 0, 0, 1, 1,\n",
       "        1, 0, 0, 0, 0, 0],\n",
       "       [0, 0, 0, 0, 0, 0, 0, 1, 1, 1, 1, 0, 0, 0, 0, 0, 0, 0, 0, 0, 1, 1,\n",
       "        1, 0, 0, 0, 0, 0],\n",
       "       [0, 0, 0, 0, 0, 0, 0, 1, 1, 1, 0, 0, 0, 0, 0, 0, 0, 0, 0, 0, 1, 1,\n",
       "        1, 0, 0, 0, 0, 0],\n",
       "       [0, 0, 0, 0, 0, 0, 1, 1, 1, 1, 0, 0, 0, 0, 0, 0, 0, 0, 0, 0, 1, 1,\n",
       "        1, 0, 0, 0, 0, 0],\n",
       "       [0, 0, 0, 0, 0, 0, 1, 1, 1, 1, 0, 0, 0, 0, 0, 0, 0, 0, 1, 1, 1, 1,\n",
       "        1, 0, 0, 0, 0, 0],\n",
       "       [0, 0, 0, 0, 0, 0, 1, 1, 1, 0, 0, 0, 0, 0, 0, 0, 0, 1, 1, 1, 1, 1,\n",
       "        0, 0, 0, 0, 0, 0],\n",
       "       [0, 0, 0, 0, 0, 0, 1, 1, 1, 0, 0, 0, 0, 0, 0, 0, 1, 1, 1, 1, 0, 0,\n",
       "        0, 0, 0, 0, 0, 0],\n",
       "       [0, 0, 0, 0, 0, 0, 1, 1, 1, 0, 0, 0, 0, 0, 0, 1, 1, 1, 1, 0, 0, 0,\n",
       "        0, 0, 0, 0, 0, 0],\n",
       "       [0, 0, 0, 0, 0, 0, 1, 1, 1, 1, 1, 1, 1, 1, 1, 1, 1, 1, 1, 0, 0, 0,\n",
       "        0, 0, 0, 0, 0, 0],\n",
       "       [0, 0, 0, 0, 0, 0, 1, 1, 1, 1, 1, 1, 1, 1, 1, 1, 1, 0, 0, 0, 0, 0,\n",
       "        0, 0, 0, 0, 0, 0],\n",
       "       [0, 0, 0, 0, 0, 0, 1, 1, 1, 1, 1, 1, 1, 1, 1, 0, 0, 0, 0, 0, 0, 0,\n",
       "        0, 0, 0, 0, 0, 0],\n",
       "       [0, 0, 0, 0, 0, 0, 0, 1, 1, 1, 1, 1, 1, 1, 0, 0, 0, 0, 0, 0, 0, 0,\n",
       "        0, 0, 0, 0, 0, 0]], dtype=uint8)"
      ]
     },
     "execution_count": 38,
     "metadata": {},
     "output_type": "execute_result"
    }
   ],
   "source": [
    "array"
   ]
  },
  {
   "cell_type": "code",
   "execution_count": 39,
   "metadata": {},
   "outputs": [],
   "source": [
    "converted_graph = lego_world_ref.graph_to_table()"
   ]
  },
  {
   "cell_type": "code",
   "execution_count": 40,
   "metadata": {},
   "outputs": [
    {
     "data": {
      "image/jpeg": "[encoded data removed]",
      "image/png": "[encoded data removed]",
      "text/plain": [
       "<PIL.Image.Image image mode=L size=28x28>"
      ]
     },
     "execution_count": 40,
     "metadata": {},
     "output_type": "execute_result"
    }
   ],
   "source": [
    "array_to_image(converted_graph)"
   ]
  },
  {
   "cell_type": "code",
   "execution_count": 23,
   "metadata": {},
   "outputs": [
    {
     "data": {
      "text/plain": [
       "{'graph': {},\n",
       " '_node': {0: {'x': 9, 'y': 0, 'validity': True},\n",
       "  1: {'x': 11, 'y': 0, 'validity': True},\n",
       "  2: {'x': 13, 'y': 0, 'validity': True},\n",
       "  3: {'x': 9, 'y': 1, 'validity': True},\n",
       "  4: {'x': 11, 'y': 1, 'validity': True},\n",
       "  5: {'x': 13, 'y': 1, 'validity': True},\n",
       "  6: {'x': 9, 'y': 2, 'validity': True},\n",
       "  7: {'x': 11, 'y': 2, 'validity': True},\n",
       "  8: {'x': 13, 'y': 2, 'validity': True},\n",
       "  9: {'x': 10, 'y': 3, 'validity': True},\n",
       "  10: {'x': 12, 'y': 3, 'validity': True},\n",
       "  11: {'x': 10, 'y': 4, 'validity': True},\n",
       "  12: {'x': 12, 'y': 4, 'validity': True},\n",
       "  13: {'x': 14, 'y': 4, 'validity': True},\n",
       "  14: {'x': 11, 'y': 5, 'validity': True},\n",
       "  15: {'x': 13, 'y': 5, 'validity': True},\n",
       "  16: {'x': 7, 'y': 6, 'validity': True},\n",
       "  17: {'x': 9, 'y': 6, 'validity': True},\n",
       "  18: {'x': 11, 'y': 6, 'validity': True},\n",
       "  19: {'x': 13, 'y': 6, 'validity': True},\n",
       "  20: {'x': 15, 'y': 6, 'validity': True},\n",
       "  21: {'x': 17, 'y': 6, 'validity': True},\n",
       "  22: {'x': 19, 'y': 6, 'validity': True},\n",
       "  23: {'x': 4, 'y': 7, 'validity': True},\n",
       "  24: {'x': 6, 'y': 7, 'validity': True},\n",
       "  25: {'x': 8, 'y': 7, 'validity': True},\n",
       "  26: {'x': 10, 'y': 7, 'validity': True},\n",
       "  27: {'x': 12, 'y': 7, 'validity': True},\n",
       "  28: {'x': 14, 'y': 7, 'validity': True},\n",
       "  29: {'x': 16, 'y': 7, 'validity': True},\n",
       "  30: {'x': 18, 'y': 7, 'validity': True},\n",
       "  31: {'x': 20, 'y': 7, 'validity': True},\n",
       "  32: {'x': 4, 'y': 8, 'validity': True},\n",
       "  33: {'x': 6, 'y': 8, 'validity': True},\n",
       "  34: {'x': 8, 'y': 8, 'validity': True},\n",
       "  35: {'x': 10, 'y': 8, 'validity': True},\n",
       "  36: {'x': 12, 'y': 8, 'validity': True},\n",
       "  37: {'x': 14, 'y': 8, 'validity': True},\n",
       "  38: {'x': 16, 'y': 8, 'validity': True},\n",
       "  39: {'x': 18, 'y': 8, 'validity': True},\n",
       "  40: {'x': 20, 'y': 8, 'validity': True},\n",
       "  41: {'x': 5, 'y': 9, 'validity': True},\n",
       "  42: {'x': 7, 'y': 9, 'validity': True},\n",
       "  43: {'x': 9, 'y': 9, 'validity': True},\n",
       "  44: {'x': 11, 'y': 9, 'validity': True},\n",
       "  45: {'x': 13, 'y': 9, 'validity': True},\n",
       "  46: {'x': 15, 'y': 9, 'validity': True},\n",
       "  47: {'x': 17, 'y': 9, 'validity': True},\n",
       "  48: {'x': 19, 'y': 9, 'validity': True},\n",
       "  49: {'x': 6, 'y': 10, 'validity': True},\n",
       "  50: {'x': 8, 'y': 10, 'validity': True},\n",
       "  51: {'x': 10, 'y': 10, 'validity': True},\n",
       "  52: {'x': 12, 'y': 10, 'validity': True},\n",
       "  53: {'x': 14, 'y': 10, 'validity': True},\n",
       "  54: {'x': 16, 'y': 10, 'validity': True},\n",
       "  55: {'x': 18, 'y': 10, 'validity': True},\n",
       "  56: {'x': 20, 'y': 10, 'validity': True},\n",
       "  57: {'x': 6, 'y': 11, 'validity': True},\n",
       "  58: {'x': 8, 'y': 11, 'validity': True},\n",
       "  59: {'x': 10, 'y': 11, 'validity': True},\n",
       "  60: {'x': 12, 'y': 11, 'validity': True},\n",
       "  61: {'x': 14, 'y': 11, 'validity': True},\n",
       "  62: {'x': 16, 'y': 11, 'validity': True},\n",
       "  63: {'x': 18, 'y': 11, 'validity': True},\n",
       "  64: {'x': 20, 'y': 11, 'validity': True},\n",
       "  65: {'x': 8, 'y': 12, 'validity': True},\n",
       "  66: {'x': 10, 'y': 12, 'validity': True},\n",
       "  67: {'x': 12, 'y': 12, 'validity': True},\n",
       "  68: {'x': 14, 'y': 12, 'validity': True},\n",
       "  69: {'x': 16, 'y': 12, 'validity': True},\n",
       "  70: {'x': 18, 'y': 12, 'validity': True},\n",
       "  71: {'x': 9, 'y': 13, 'validity': True},\n",
       "  72: {'x': 11, 'y': 13, 'validity': True},\n",
       "  73: {'x': 13, 'y': 13, 'validity': True},\n",
       "  74: {'x': 15, 'y': 13, 'validity': True},\n",
       "  75: {'x': 17, 'y': 13, 'validity': True},\n",
       "  76: {'x': 10, 'y': 14, 'validity': True},\n",
       "  77: {'x': 12, 'y': 14, 'validity': True},\n",
       "  78: {'x': 14, 'y': 14, 'validity': True},\n",
       "  79: {'x': 16, 'y': 14, 'validity': True},\n",
       "  80: {'x': 18, 'y': 14, 'validity': True},\n",
       "  81: {'x': 11, 'y': 15, 'validity': True},\n",
       "  82: {'x': 13, 'y': 15, 'validity': True},\n",
       "  83: {'x': 15, 'y': 15, 'validity': True},\n",
       "  84: {'x': 17, 'y': 15, 'validity': True},\n",
       "  85: {'x': 19, 'y': 15, 'validity': True},\n",
       "  86: {'x': 12, 'y': 16, 'validity': True},\n",
       "  87: {'x': 14, 'y': 16, 'validity': True},\n",
       "  88: {'x': 16, 'y': 16, 'validity': True},\n",
       "  89: {'x': 18, 'y': 16, 'validity': True},\n",
       "  90: {'x': 20, 'y': 16, 'validity': True},\n",
       "  91: {'x': 12, 'y': 17, 'validity': True},\n",
       "  92: {'x': 14, 'y': 17, 'validity': True},\n",
       "  93: {'x': 16, 'y': 17, 'validity': True},\n",
       "  94: {'x': 18, 'y': 17, 'validity': True},\n",
       "  95: {'x': 20, 'y': 17, 'validity': True},\n",
       "  96: {'x': 16, 'y': 18, 'validity': True},\n",
       "  97: {'x': 18, 'y': 18, 'validity': True},\n",
       "  98: {'x': 20, 'y': 18, 'validity': True},\n",
       "  99: {'x': 18, 'y': 19, 'validity': True},\n",
       "  100: {'x': 20, 'y': 19, 'validity': True}},\n",
       " '_adj': {0: {3: {}},\n",
       "  1: {4: {}},\n",
       "  2: {5: {}},\n",
       "  3: {0: {}, 6: {}},\n",
       "  4: {1: {}, 7: {}},\n",
       "  5: {2: {}, 8: {}},\n",
       "  6: {3: {}, 9: {}},\n",
       "  7: {4: {}, 9: {}, 10: {}},\n",
       "  8: {5: {}, 10: {}},\n",
       "  9: {6: {}, 7: {}, 11: {}},\n",
       "  10: {7: {}, 8: {}, 12: {}},\n",
       "  11: {9: {}, 14: {}},\n",
       "  12: {10: {}, 14: {}, 15: {}},\n",
       "  13: {15: {}},\n",
       "  14: {11: {}, 12: {}, 18: {}},\n",
       "  15: {12: {}, 13: {}, 19: {}},\n",
       "  16: {24: {}, 25: {}},\n",
       "  17: {25: {}, 26: {}},\n",
       "  18: {14: {}, 26: {}, 27: {}},\n",
       "  19: {15: {}, 27: {}, 28: {}},\n",
       "  20: {28: {}, 29: {}},\n",
       "  21: {29: {}, 30: {}},\n",
       "  22: {30: {}, 31: {}},\n",
       "  23: {32: {}},\n",
       "  24: {16: {}, 33: {}},\n",
       "  25: {16: {}, 17: {}, 34: {}},\n",
       "  26: {17: {}, 18: {}, 35: {}},\n",
       "  27: {18: {}, 19: {}, 36: {}},\n",
       "  28: {19: {}, 20: {}, 37: {}},\n",
       "  29: {20: {}, 21: {}, 38: {}},\n",
       "  30: {21: {}, 22: {}, 39: {}},\n",
       "  31: {22: {}, 40: {}},\n",
       "  32: {23: {}, 41: {}},\n",
       "  33: {24: {}, 41: {}, 42: {}},\n",
       "  34: {25: {}, 42: {}, 43: {}},\n",
       "  35: {26: {}, 43: {}, 44: {}},\n",
       "  36: {27: {}, 44: {}, 45: {}},\n",
       "  37: {28: {}, 45: {}, 46: {}},\n",
       "  38: {29: {}, 46: {}, 47: {}},\n",
       "  39: {30: {}, 47: {}, 48: {}},\n",
       "  40: {31: {}, 48: {}},\n",
       "  41: {32: {}, 33: {}, 49: {}},\n",
       "  42: {33: {}, 34: {}, 49: {}, 50: {}},\n",
       "  43: {34: {}, 35: {}, 50: {}, 51: {}},\n",
       "  44: {35: {}, 36: {}, 51: {}, 52: {}},\n",
       "  45: {36: {}, 37: {}, 52: {}, 53: {}},\n",
       "  46: {37: {}, 38: {}, 53: {}, 54: {}},\n",
       "  47: {38: {}, 39: {}, 54: {}, 55: {}},\n",
       "  48: {39: {}, 40: {}, 55: {}, 56: {}},\n",
       "  49: {41: {}, 42: {}, 57: {}},\n",
       "  50: {42: {}, 43: {}, 58: {}},\n",
       "  51: {43: {}, 44: {}, 59: {}},\n",
       "  52: {44: {}, 45: {}, 60: {}},\n",
       "  53: {45: {}, 46: {}, 61: {}},\n",
       "  54: {46: {}, 47: {}, 62: {}},\n",
       "  55: {47: {}, 48: {}, 63: {}},\n",
       "  56: {48: {}, 64: {}},\n",
       "  57: {49: {}},\n",
       "  58: {50: {}, 65: {}},\n",
       "  59: {51: {}, 66: {}},\n",
       "  60: {52: {}, 67: {}},\n",
       "  61: {53: {}, 68: {}},\n",
       "  62: {54: {}, 69: {}},\n",
       "  63: {55: {}, 70: {}},\n",
       "  64: {56: {}},\n",
       "  65: {58: {}, 71: {}},\n",
       "  66: {59: {}, 71: {}, 72: {}},\n",
       "  67: {60: {}, 72: {}, 73: {}},\n",
       "  68: {61: {}, 73: {}, 74: {}},\n",
       "  69: {62: {}, 74: {}, 75: {}},\n",
       "  70: {63: {}, 75: {}},\n",
       "  71: {65: {}, 66: {}, 76: {}},\n",
       "  72: {66: {}, 67: {}, 76: {}, 77: {}},\n",
       "  73: {67: {}, 68: {}, 77: {}, 78: {}},\n",
       "  74: {68: {}, 69: {}, 78: {}, 79: {}},\n",
       "  75: {69: {}, 70: {}, 79: {}, 80: {}},\n",
       "  76: {71: {}, 72: {}, 81: {}},\n",
       "  77: {72: {}, 73: {}, 81: {}, 82: {}},\n",
       "  78: {73: {}, 74: {}, 82: {}, 83: {}},\n",
       "  79: {74: {}, 75: {}, 83: {}, 84: {}},\n",
       "  80: {75: {}, 84: {}, 85: {}},\n",
       "  81: {76: {}, 77: {}, 86: {}},\n",
       "  82: {77: {}, 78: {}, 86: {}, 87: {}},\n",
       "  83: {78: {}, 79: {}, 87: {}, 88: {}},\n",
       "  84: {79: {}, 80: {}, 88: {}, 89: {}},\n",
       "  85: {80: {}, 89: {}, 90: {}},\n",
       "  86: {81: {}, 82: {}, 91: {}},\n",
       "  87: {82: {}, 83: {}, 92: {}},\n",
       "  88: {83: {}, 84: {}, 93: {}},\n",
       "  89: {84: {}, 85: {}, 94: {}},\n",
       "  90: {85: {}, 95: {}},\n",
       "  91: {86: {}},\n",
       "  92: {87: {}},\n",
       "  93: {88: {}, 96: {}},\n",
       "  94: {89: {}, 97: {}},\n",
       "  95: {90: {}, 98: {}},\n",
       "  96: {93: {}},\n",
       "  97: {94: {}, 99: {}},\n",
       "  98: {95: {}, 100: {}},\n",
       "  99: {97: {}},\n",
       "  100: {98: {}}},\n",
       " 'nodes': NodeView((0, 1, 2, 3, 4, 5, 6, 7, 8, 9, 10, 11, 12, 13, 14, 15, 16, 17, 18, 19, 20, 21, 22, 23, 24, 25, 26, 27, 28, 29, 30, 31, 32, 33, 34, 35, 36, 37, 38, 39, 40, 41, 42, 43, 44, 45, 46, 47, 48, 49, 50, 51, 52, 53, 54, 55, 56, 57, 58, 59, 60, 61, 62, 63, 64, 65, 66, 67, 68, 69, 70, 71, 72, 73, 74, 75, 76, 77, 78, 79, 80, 81, 82, 83, 84, 85, 86, 87, 88, 89, 90, 91, 92, 93, 94, 95, 96, 97, 98, 99, 100))}"
      ]
     },
     "execution_count": 23,
     "metadata": {},
     "output_type": "execute_result"
    }
   ],
   "source": [
    "vars(lego_world_ref.graph)"
   ]
  },
  {
   "cell_type": "code",
   "execution_count": 1,
   "metadata": {},
   "outputs": [],
   "source": [
    "from text2brick.dataset import LegoDatasetGenerator\n",
    "generator = LegoDatasetGenerator()"
   ]
  },
  {
   "cell_type": "code",
   "execution_count": 2,
   "metadata": {},
   "outputs": [],
   "source": [
    "generator.generate(1)"
   ]
  },
  {
   "cell_type": "code",
   "execution_count": 3,
   "metadata": {},
   "outputs": [
    {
     "name": "stdout",
     "output_type": "stream",
     "text": [
      "['1']\n"
     ]
    }
   ],
   "source": [
    "import os\n",
    "\n",
    "print(os.listdir(\"./lego_dataset\"))"
   ]
  }
 ],
 "metadata": {
  "kernelspec": {
   "display_name": "Python 3",
   "language": "python",
   "name": "python3"
  },
  "language_info": {
   "codemirror_mode": {
    "name": "ipython",
    "version": 3
   },
   "file_extension": ".py",
   "mimetype": "text/x-python",
   "name": "python",
   "nbconvert_exporter": "python",
   "pygments_lexer": "ipython3",
   "version": "3.10.11"
  }
 },
 "nbformat": 4,
 "nbformat_minor": 2
}
