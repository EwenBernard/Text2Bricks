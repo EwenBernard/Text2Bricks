{
 "cells": [
  {
   "cell_type": "code",
   "execution_count": 1,
   "metadata": {},
   "outputs": [],
   "source": [
    "from text2brick.models import GraphLegoWorldData\n",
    "import numpy as np\n",
    "import torch\n",
    "from text2brick.dataset.dataset import MNISTDataset\n",
    "from text2brick.gym import LegoEnv\n"
   ]
  },
  {
   "cell_type": "code",
   "execution_count": 2,
   "metadata": {},
   "outputs": [],
   "source": [
    "table = np.array([[0, 0, 0, 0],\n",
    "                  [1, 1, 0, 0],\n",
    "                  [0, 1, 1, 0],\n",
    "                  [1, 1, 0, 0]])"
   ]
  },
  {
   "cell_type": "code",
   "execution_count": 8,
   "metadata": {},
   "outputs": [],
   "source": [
    "# dataset = MNISTDataset()\n",
    "# array, _, _, _ = dataset.sample(sample_index=1)"
   ]
  },
  {
   "cell_type": "code",
   "execution_count": 9,
   "metadata": {},
   "outputs": [],
   "source": [
    "# env = LegoEnv(array.shape[0])\n",
    "# print(env)"
   ]
  },
  {
   "cell_type": "code",
   "execution_count": 10,
   "metadata": {},
   "outputs": [],
   "source": [
    "# obs, reward, done, info = env.step((0, 14), array) # Valid\n",
    "# obs, reward, done, info = env.step((0, 14), array) # Overlap\n",
    "# obs, reward, done, info = env.step((0, 27), array) # Half of the brick is out of the world \n",
    "# obs, reward, done, info = env.step((3, 14), array) # Invalid\n",
    "# obs, reward, done, info = env.step((1, 14), array) # Valid\n",
    "# print(obs)"
   ]
  },
  {
   "cell_type": "code",
   "execution_count": 3,
   "metadata": {},
   "outputs": [
    {
     "name": "stdout",
     "output_type": "stream",
     "text": [
      "Outside: Brick at (3, 0) is out of the world\n",
      "Number of nodes: 4\n",
      "Number of edges: 3\n",
      "Node 0: {'x': 0, 'y': 0, 'validity': True}\n",
      "Node 1: {'x': 1, 'y': 1, 'validity': True}\n",
      "Node 2: {'x': 0, 'y': 2, 'validity': True}\n",
      "Node 3: {'x': 2, 'y': 0, 'validity': True}\n",
      "Edge (0, 1): {}\n",
      "Edge (1, 2): {}\n",
      "Edge (1, 3): {}\n"
     ]
    }
   ],
   "source": [
    "graph = GraphLegoWorldData(img=table)\n",
    "graph.add_brick(3, 0)\n",
    "graph.add_brick(2, 0)\n",
    "graph.print_graph()\n",
    "graph.save_as_ldraw()"
   ]
  },
  {
   "cell_type": "code",
   "execution_count": 16,
   "metadata": {},
   "outputs": [
    {
     "name": "stdout",
     "output_type": "stream",
     "text": [
      "Node 0: {'x': 0, 'y': 0, 'validity': True}\n",
      "Node 1: {'x': 1, 'y': 1, 'validity': True}\n",
      "Node 2: {'x': 0, 'y': 2, 'validity': True}\n",
      "Edge (0, 1):\n",
      "Edge (1, 2):\n"
     ]
    },
    {
     "data": {
      "text/plain": [
       "<networkx.classes.graph.Graph at 0x16fd3a52440>"
      ]
     },
     "execution_count": 16,
     "metadata": {},
     "output_type": "execute_result"
    }
   ],
   "source": [
    "sub = graph.subgraph(3)\n",
    "for node, data in sub.nodes(data=True):\n",
    "    print(f\"Node {node}: {data}\")\n",
    "for u, v,  in sub.edges():\n",
    "    print(f\"Edge ({u}, {v}):\")\n",
    "\n",
    "sub"
   ]
  },
  {
   "cell_type": "code",
   "execution_count": 13,
   "metadata": {},
   "outputs": [
    {
     "data": {
      "text/plain": [
       "array([[0, 0, 0, 0],\n",
       "       [1, 1, 0, 0],\n",
       "       [0, 1, 1, 0],\n",
       "       [1, 1, 1, 1]])"
      ]
     },
     "execution_count": 13,
     "metadata": {},
     "output_type": "execute_result"
    }
   ],
   "source": [
    "graph.graph_to_table()"
   ]
  },
  {
   "cell_type": "code",
   "execution_count": 14,
   "metadata": {},
   "outputs": [
    {
     "data": {
      "text/plain": [
       "tensor([[0, 1, 1],\n",
       "        [1, 2, 3]])"
      ]
     },
     "execution_count": 14,
     "metadata": {},
     "output_type": "execute_result"
    }
   ],
   "source": [
    "data = graph.graph_to_torch()\n",
    "c = torch.stack([data.x, data.y])\n",
    "data.edge_index"
   ]
  },
  {
   "cell_type": "code",
   "execution_count": 1,
   "metadata": {},
   "outputs": [],
   "source": [
    "from torch.utils.data import DataLoader\n",
    "from text2brick.dataset import CustomDatasetGraph\n",
    "\n",
    "dataset = CustomDatasetGraph()\n"
   ]
  },
  {
   "cell_type": "code",
   "execution_count": 3,
   "metadata": {},
   "outputs": [
    {
     "name": "stdout",
     "output_type": "stream",
     "text": [
      "Sample 1:\n",
      "Node Features (x): tensor([[[ 7,  9, 11,  7,  9, 11,  7,  9, 11],\n",
      "         [ 0,  0,  0,  1,  1,  1,  2,  2,  2]]])\n",
      "Edge Index: tensor([[[0, 1, 2, 3, 4, 5],\n",
      "         [3, 4, 5, 6, 7, 8]]])\n",
      "Next Node: tensor([[-1, -1]], dtype=torch.int32)\n",
      "------------------------------\n",
      "Sample 2:\n",
      "Node Features (x): tensor([[[ 9, 11, 10, 10, 11, 11, 11, 13, 12, 12, 12, 14, 13, 13, 15, 13, 15,\n",
      "          14, 14, 16, 14],\n",
      "         [ 0,  0,  1,  2,  3,  4,  5,  5,  6,  7,  8,  8,  9, 10, 10, 11, 11,\n",
      "          12, 13, 13, 14]]])\n",
      "Edge Index: tensor([[[ 0,  1,  2,  3,  4,  5,  6,  7,  8,  9, 10, 11, 12, 13, 14, 15, 16,\n",
      "          17, 18],\n",
      "         [ 2,  2,  3,  4,  5,  6,  8,  8,  9, 10, 12, 12, 13, 15, 16, 17, 17,\n",
      "          18, 20]]])\n",
      "Next Node: tensor([[16, 14]], dtype=torch.int32)\n",
      "------------------------------\n"
     ]
    }
   ],
   "source": [
    "train_data = DataLoader(dataset, batch_size=1, shuffle=True)\n",
    "\n",
    "for i in range(2):\n",
    "    x, edge_index, next_node = next(iter(train_data))\n",
    "    print(f\"Sample {i + 1}:\")\n",
    "    print(f\"Node Features (x): {x}\")\n",
    "    print(f\"Edge Index: {edge_index}\")\n",
    "    print(f\"Next Node: {next_node}\")\n",
    "    print(\"-\" * 30)"
   ]
  }
 ],
 "metadata": {
  "kernelspec": {
   "display_name": "Python 3",
   "language": "python",
   "name": "python3"
  },
  "language_info": {
   "codemirror_mode": {
    "name": "ipython",
    "version": 3
   },
   "file_extension": ".py",
   "mimetype": "text/x-python",
   "name": "python",
   "nbconvert_exporter": "python",
   "pygments_lexer": "ipython3",
   "version": "3.10.11"
  }
 },
 "nbformat": 4,
 "nbformat_minor": 2
}
