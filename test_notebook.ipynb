{
 "cells": [
  {
   "cell_type": "code",
   "execution_count": 1,
   "metadata": {},
   "outputs": [],
   "source": [
    "from text2brick.models import GraphLegoWorldData\n",
    "import numpy as np\n",
    "import torch\n",
    "from text2brick.dataset.dataset import MNISTDataset\n",
    "from text2brick.gym import LegoEnv\n"
   ]
  },
  {
   "cell_type": "code",
   "execution_count": 2,
   "metadata": {},
   "outputs": [],
   "source": [
    "table = np.array([[0, 0, 0, 0],\n",
    "                  [1, 1, 0, 0],\n",
    "                  [0, 1, 1, 0],\n",
    "                  [1, 1, 0, 0]])"
   ]
  },
  {
   "cell_type": "code",
   "execution_count": 3,
   "metadata": {},
   "outputs": [],
   "source": [
    "# dataset = MNISTDataset()\n",
    "# array, _, _, _ = dataset.sample(sample_index=1)"
   ]
  },
  {
   "cell_type": "code",
   "execution_count": 4,
   "metadata": {},
   "outputs": [],
   "source": [
    "# env = LegoEnv(array.shape[0])\n",
    "# print(env)"
   ]
  },
  {
   "cell_type": "code",
   "execution_count": 5,
   "metadata": {},
   "outputs": [],
   "source": [
    "# obs, reward, done, info = env.step((0, 14), array) # Valid\n",
    "# obs, reward, done, info = env.step((0, 14), array) # Overlap\n",
    "# obs, reward, done, info = env.step((0, 27), array) # Half of the brick is out of the world \n",
    "# obs, reward, done, info = env.step((3, 14), array) # Invalid\n",
    "# obs, reward, done, info = env.step((1, 14), array) # Valid\n",
    "# print(obs)"
   ]
  },
  {
   "cell_type": "code",
   "execution_count": 6,
   "metadata": {},
   "outputs": [
    {
     "name": "stdout",
     "output_type": "stream",
     "text": [
      "Outside: Brick at (3, 0) is out of the world\n",
      "Number of nodes: 4\n",
      "Number of edges: 3\n",
      "Node 0: {'x': 0, 'y': 0, 'validity': True}\n",
      "Node 1: {'x': 1, 'y': 1, 'validity': True}\n",
      "Node 2: {'x': 0, 'y': 2, 'validity': True}\n",
      "Node 3: {'x': 2, 'y': 0, 'validity': True}\n",
      "Edge (0, 1): {}\n",
      "Edge (1, 2): {}\n",
      "Edge (1, 3): {}\n"
     ]
    }
   ],
   "source": [
    "graph = GraphLegoWorldData(img=table)\n",
    "graph.add_brick(3, 0)\n",
    "graph.add_brick(2, 0)\n",
    "graph.print_graph()\n",
    "graph.save_as_ldraw()"
   ]
  },
  {
   "cell_type": "code",
   "execution_count": 13,
   "metadata": {},
   "outputs": [
    {
     "name": "stdout",
     "output_type": "stream",
     "text": [
      "0 {'x': 0, 'y': 0, 'validity': True}\n",
      "1 {'x': 1, 'y': 1, 'validity': True}\n",
      "2 {'x': 0, 'y': 2, 'validity': True}\n",
      "3 {'x': 2, 'y': 0, 'validity': True}\n"
     ]
    }
   ],
   "source": [
    "data = graph.get_nodes()\n",
    "\n",
    "for node, data in data: \n",
    "    print(node, data)"
   ]
  },
  {
   "cell_type": "code",
   "execution_count": null,
   "metadata": {},
   "outputs": [],
   "source": []
  },
  {
   "cell_type": "code",
   "execution_count": 8,
   "metadata": {},
   "outputs": [
    {
     "name": "stdout",
     "output_type": "stream",
     "text": [
      "Node 0: {'x': 0, 'y': 0, 'validity': True}\n",
      "Node 1: {'x': 1, 'y': 1, 'validity': True}\n",
      "Node 2: {'x': 0, 'y': 2, 'validity': True}\n",
      "Edge (0, 1):\n",
      "Edge (1, 2):\n"
     ]
    },
    {
     "data": {
      "text/plain": [
       "<networkx.classes.graph.Graph at 0x2e886e48c70>"
      ]
     },
     "execution_count": 8,
     "metadata": {},
     "output_type": "execute_result"
    }
   ],
   "source": [
    "sub = graph.subgraph(3)\n",
    "for node, data in sub.nodes(data=True):\n",
    "    print(f\"Node {node}: {data}\")\n",
    "for u, v,  in sub.edges():\n",
    "    print(f\"Edge ({u}, {v}):\")\n",
    "\n",
    "sub"
   ]
  },
  {
   "cell_type": "code",
   "execution_count": 9,
   "metadata": {},
   "outputs": [
    {
     "data": {
      "text/plain": [
       "array([[0, 0, 0, 0],\n",
       "       [1, 1, 0, 0],\n",
       "       [0, 1, 1, 0],\n",
       "       [1, 1, 1, 1]])"
      ]
     },
     "execution_count": 9,
     "metadata": {},
     "output_type": "execute_result"
    }
   ],
   "source": [
    "graph.graph_to_table()"
   ]
  },
  {
   "cell_type": "code",
   "execution_count": 10,
   "metadata": {},
   "outputs": [
    {
     "data": {
      "text/plain": [
       "tensor([[0, 1, 1],\n",
       "        [1, 2, 3]])"
      ]
     },
     "execution_count": 10,
     "metadata": {},
     "output_type": "execute_result"
    }
   ],
   "source": [
    "data = graph.graph_to_torch()\n",
    "c = torch.stack([data.x, data.y])\n",
    "data.edge_index"
   ]
  },
  {
   "cell_type": "code",
   "execution_count": 11,
   "metadata": {},
   "outputs": [],
   "source": [
    "from torch.utils.data import DataLoader\n",
    "from text2brick.dataset import CustomDatasetGraph\n",
    "\n",
    "dataset = CustomDatasetGraph()\n"
   ]
  },
  {
   "cell_type": "code",
   "execution_count": 12,
   "metadata": {},
   "outputs": [
    {
     "name": "stdout",
     "output_type": "stream",
     "text": [
      "Sample 1:\n",
      "Node Features (x): tensor([[[ 5,  7,  5,  7,  5,  7,  9,  6,  8, 10,  6,  8, 10,  8, 10, 12,  9,\n",
      "          11, 10, 12, 14, 10, 12, 14, 11, 13, 15, 12, 14, 16, 14, 16, 14, 16,\n",
      "          15, 17, 19, 15, 17, 19, 16, 18, 20, 16, 18, 20, 16, 18, 20, 19],\n",
      "         [ 0,  0,  1,  1,  2,  2,  2,  3,  3,  3,  4,  4,  4,  5,  5,  5,  6,\n",
      "           6,  7,  7,  7,  8,  8,  8,  9,  9,  9, 10, 10, 10, 11, 11, 12, 12,\n",
      "          13, 13, 13, 14, 14, 14, 15, 15, 15, 16, 16, 16, 17, 17, 17, 18]]])\n",
      "Edge Index: tensor([[[ 0,  1,  2,  3,  4,  5,  5,  6,  6,  7,  8,  9, 11, 12, 13, 14, 14,\n",
      "          15, 16, 17, 17, 18, 19, 20, 21, 22, 22, 23, 23, 24, 25, 25, 26, 26,\n",
      "          28, 29, 30, 31, 32, 33, 33, 34, 35, 36, 37, 38, 38, 39, 39, 40, 41,\n",
      "          42, 43, 44, 45, 47, 48],\n",
      "         [ 2,  3,  4,  5,  7,  7,  8,  8,  9, 10, 11, 12, 13, 14, 16, 16, 17,\n",
      "          17, 18, 18, 19, 21, 22, 23, 24, 24, 25, 25, 26, 27, 27, 28, 28, 29,\n",
      "          30, 31, 32, 33, 34, 34, 35, 37, 38, 39, 40, 40, 41, 41, 42, 43, 44,\n",
      "          45, 46, 47, 48, 49, 49]]])\n",
      "Next Node: tensor([[21, 18]], dtype=torch.int32)\n",
      "------------------------------\n",
      "Sample 2:\n",
      "Node Features (x): tensor([[[ 9,  9, 11,  9],\n",
      "         [ 0,  1,  1,  2]]])\n",
      "Edge Index: tensor([[[0, 1],\n",
      "         [1, 3]]])\n",
      "Next Node: tensor([[11,  2]], dtype=torch.int32)\n",
      "------------------------------\n"
     ]
    }
   ],
   "source": [
    "train_data = DataLoader(dataset, batch_size=1, shuffle=True)\n",
    "\n",
    "for i in range(2):\n",
    "    x, edge_index, next_node = next(iter(train_data))\n",
    "    print(f\"Sample {i + 1}:\")\n",
    "    print(f\"Node Features (x): {x}\")\n",
    "    print(f\"Edge Index: {edge_index}\")\n",
    "    print(f\"Next Node: {next_node}\")\n",
    "    print(\"-\" * 30)"
   ]
  },
  {
   "cell_type": "code",
   "execution_count": 1,
   "metadata": {},
   "outputs": [],
   "source": [
    "from text2brick.gym import Text2Brick_v1\n",
    "import torch\n",
    "import numpy as np\n",
    "from PIL import Image\n",
    "from torchsummary import summary\n",
    "from text2brick.gym import Text2Brick_v1, BrickPlacementGNN, CNN, SNN, PositionHead2D, MLP\n",
    "\n",
    "image_target = np.random.rand(3, 224, 224)\n",
    "image_environment = np.random.rand(3, 224, 224)\n",
    "\n",
    "def numpy_to_pil(image_np):\n",
    "    image_np = (image_np * 255).astype(np.uint8)\n",
    "    image_np = image_np.transpose(1, 2, 0)\n",
    "    return Image.fromarray(image_np)\n",
    "\n",
    "image_target_pil = numpy_to_pil(image_target)\n",
    "image_environment_pil = numpy_to_pil(image_environment)\n",
    "\n",
    "# image_target_pil.show()\n",
    "# image_environment_pil.show()"
   ]
  },
  {
   "cell_type": "code",
   "execution_count": 2,
   "metadata": {},
   "outputs": [],
   "source": [
    "node_features = torch.randn(10, 2)  # 10 nodes with 2 features each\n",
    "edge_index = torch.tensor([[0, 1, 2], [1, 2, 3]])  # Example edge connections\n",
    "\n",
    "# Initialize the model\n",
    "#model = Text2Brick_v1(image_target=image_target_pil)"
   ]
  },
  {
   "cell_type": "code",
   "execution_count": 3,
   "metadata": {},
   "outputs": [
    {
     "data": {
      "text/plain": [
       "torch.Size([1, 64])"
      ]
     },
     "execution_count": 3,
     "metadata": {},
     "output_type": "execute_result"
    }
   ],
   "source": [
    "gnn = BrickPlacementGNN()\n",
    "gnn_result = gnn.forward(node_features, edge_index)\n",
    "gnn_result.shape"
   ]
  },
  {
   "cell_type": "code",
   "execution_count": 4,
   "metadata": {},
   "outputs": [
    {
     "name": "stderr",
     "output_type": "stream",
     "text": [
      "Using cache found in C:\\Users\\ebern/.cache\\torch\\hub\\pytorch_vision_v0.10.0\n"
     ]
    },
    {
     "data": {
      "text/plain": [
       "torch.Size([1, 13, 13])"
      ]
     },
     "execution_count": 4,
     "metadata": {},
     "output_type": "execute_result"
    }
   ],
   "source": [
    "snn = SNN(image_target=image_target_pil)\n",
    "snn_result = snn.forward(image_environment_pil)\n",
    "snn_result.shape"
   ]
  },
  {
   "cell_type": "code",
   "execution_count": 5,
   "metadata": {},
   "outputs": [],
   "source": [
    "mlp = MLP((1, 13, 13), (1, 64))"
   ]
  },
  {
   "cell_type": "code",
   "execution_count": 6,
   "metadata": {},
   "outputs": [
    {
     "name": "stdout",
     "output_type": "stream",
     "text": [
      "torch.Size([1, 169])\n"
     ]
    }
   ],
   "source": [
    "mlp_output = mlp.forward(snn_result, gnn_result)"
   ]
  },
  {
   "cell_type": "code",
   "execution_count": 18,
   "metadata": {},
   "outputs": [
    {
     "data": {
      "text/plain": [
       "torch.Size([1, 16])"
      ]
     },
     "execution_count": 18,
     "metadata": {},
     "output_type": "execute_result"
    }
   ],
   "source": [
    "mlp_output.shape "
   ]
  },
  {
   "cell_type": "code",
   "execution_count": 19,
   "metadata": {},
   "outputs": [],
   "source": [
    "head = PositionHead2D(mlp_output_dim=16)"
   ]
  },
  {
   "cell_type": "code",
   "execution_count": 20,
   "metadata": {},
   "outputs": [
    {
     "data": {
      "text/plain": [
       "tensor([[4, 5]])"
      ]
     },
     "execution_count": 20,
     "metadata": {},
     "output_type": "execute_result"
    }
   ],
   "source": [
    "head.forward(mlp_output)"
   ]
  },
  {
   "cell_type": "code",
   "execution_count": 3,
   "metadata": {},
   "outputs": [
    {
     "name": "stdout",
     "output_type": "stream",
     "text": [
      "INIT SNN\n",
      "INIT GNN\n"
     ]
    },
    {
     "name": "stderr",
     "output_type": "stream",
     "text": [
      "Using cache found in C:\\Users\\ebern/.cache\\torch\\hub\\pytorch_vision_v0.10.0\n"
     ]
    }
   ],
   "source": [
    "full_model = Text2Brick_v1(image_target=image_target_pil)"
   ]
  },
  {
   "cell_type": "code",
   "execution_count": 4,
   "metadata": {},
   "outputs": [
    {
     "name": "stdout",
     "output_type": "stream",
     "text": [
      "torch.Size([1, 169])\n"
     ]
    },
    {
     "data": {
      "text/plain": [
       "tensor([[3, 6]])"
      ]
     },
     "execution_count": 4,
     "metadata": {},
     "output_type": "execute_result"
    }
   ],
   "source": [
    "full_model.forward(image_environment_pil, node_features, edge_index)"
   ]
  }
 ],
 "metadata": {
  "kernelspec": {
   "display_name": "Python 3",
   "language": "python",
   "name": "python3"
  },
  "language_info": {
   "codemirror_mode": {
    "name": "ipython",
    "version": 3
   },
   "file_extension": ".py",
   "mimetype": "text/x-python",
   "name": "python",
   "nbconvert_exporter": "python",
   "pygments_lexer": "ipython3",
   "version": "3.10.11"
  }
 },
 "nbformat": 4,
 "nbformat_minor": 2
}
