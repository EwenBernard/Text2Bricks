{
 "cells": [
  {
   "cell_type": "code",
   "execution_count": 1,
   "metadata": {},
   "outputs": [],
   "source": [
    "from text2brick.models import GraphLegoWorldData\n",
    "import numpy as np\n",
    "from text2brick.dataset.dataset import Dataset"
   ]
  },
  {
   "cell_type": "code",
   "execution_count": 2,
   "metadata": {},
   "outputs": [],
   "source": [
    "table = np.array([[1, 1, 1, 1],\n",
    "                  [1, 1, 1, 1],\n",
    "                  [1, 1, 0, 0],\n",
    "                  [1, 1, 1, 1]])"
   ]
  },
  {
   "cell_type": "code",
   "execution_count": 3,
   "metadata": {},
   "outputs": [],
   "source": [
    "dataset = Dataset()\n",
    "array, _, _, _ = dataset.sample(sample_index=1)"
   ]
  },
  {
   "cell_type": "code",
   "execution_count": 4,
   "metadata": {},
   "outputs": [
    {
     "name": "stdout",
     "output_type": "stream",
     "text": [
      "Node 0: {'x': 0, 'y': 0, 'validity': True}\n",
      "Node 1: {'x': 2, 'y': 0, 'validity': True}\n",
      "Node 2: {'x': 0, 'y': 1, 'validity': True}\n",
      "Node 3: {'x': 0, 'y': 2, 'validity': True}\n",
      "Node 5: {'x': 0, 'y': 3, 'validity': True}\n",
      "Edge (0, 2): {}\n",
      "Edge (2, 3): {}\n",
      "Edge (3, 5): {}\n"
     ]
    }
   ],
   "source": [
    "graph = GraphLegoWorldData(img=table)\n",
    "graph.print_graph()"
   ]
  },
  {
   "cell_type": "code",
   "execution_count": 5,
   "metadata": {},
   "outputs": [
    {
     "data": {
      "text/plain": [
       "{'graph': {},\n",
       " '_node': {0: {'x': 0, 'y': 0, 'validity': True},\n",
       "  1: {'x': 2, 'y': 0, 'validity': True},\n",
       "  2: {'x': 0, 'y': 1, 'validity': True},\n",
       "  3: {'x': 0, 'y': 2, 'validity': True},\n",
       "  5: {'x': 0, 'y': 3, 'validity': True}},\n",
       " '_adj': {0: {2: {}}, 1: {}, 2: {0: {}, 3: {}}, 3: {2: {}, 5: {}}, 5: {3: {}}},\n",
       " '__networkx_cache__': {},\n",
       " 'nodes': NodeView((0, 1, 2, 3, 5)),\n",
       " 'edges': EdgeView([(0, 2), (2, 3), (3, 5)])}"
      ]
     },
     "execution_count": 5,
     "metadata": {},
     "output_type": "execute_result"
    }
   ],
   "source": [
    "vars(graph.graph)"
   ]
  },
  {
   "cell_type": "code",
   "execution_count": null,
   "metadata": {},
   "outputs": [],
   "source": []
  }
 ],
 "metadata": {
  "kernelspec": {
   "display_name": "Python 3",
   "language": "python",
   "name": "python3"
  },
  "language_info": {
   "codemirror_mode": {
    "name": "ipython",
    "version": 3
   },
   "file_extension": ".py",
   "mimetype": "text/x-python",
   "name": "python",
   "nbconvert_exporter": "python",
   "pygments_lexer": "ipython3",
   "version": "3.10.11"
  }
 },
 "nbformat": 4,
 "nbformat_minor": 2
}
